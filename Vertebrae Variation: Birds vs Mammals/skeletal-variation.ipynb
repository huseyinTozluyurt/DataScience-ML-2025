{
 "cells": [
  {
   "cell_type": "markdown",
   "metadata": {},
   "source": [
    "# Skeletal Variation\n",
    "\n",
    "[Project extensions are at the bottom of this file]\n",
    "\n",
    "The comparison of skeletons across species lead to historical insights in evolutionary biology. In this project, you will explore the bones of the human body and make comparisons to a wide variety of mammals and birds.\n"
   ]
  },
  {
   "cell_type": "code",
   "execution_count": 105,
   "metadata": {},
   "outputs": [],
   "source": [
    "# FOR GOOGLE COLAB ONLY.\n",
    "# Uncomment and run the code below. A dialog will appear to upload files.\n",
    "# Upload 'adult-human-skeleton.csv', 'bird-neck-bones.csv', and 'mammal-neck-bones.csv'.\n",
    "\n",
    "# from google.colab import files\n",
    "# uploaded = files.upload()"
   ]
  },
  {
   "cell_type": "markdown",
   "metadata": {},
   "source": [
    "### Loading the Data\n",
    "\n",
    "The file `'adult-human-skeleton.csv'` contains information about every bone in the human body. \n",
    "Load the csv data and take a look.\n",
    "\n",
    "Activity Goals:\n",
    "- Import pandas.\n",
    "- Load the skeleton data.\n",
    "- Display the dataframe."
   ]
  },
  {
   "cell_type": "code",
   "execution_count": 106,
   "metadata": {},
   "outputs": [
    {
     "data": {
      "text/html": [
       "<div>\n",
       "<style scoped>\n",
       "    .dataframe tbody tr th:only-of-type {\n",
       "        vertical-align: middle;\n",
       "    }\n",
       "\n",
       "    .dataframe tbody tr th {\n",
       "        vertical-align: top;\n",
       "    }\n",
       "\n",
       "    .dataframe thead th {\n",
       "        text-align: right;\n",
       "    }\n",
       "</style>\n",
       "<table border=\"1\" class=\"dataframe\">\n",
       "  <thead>\n",
       "    <tr style=\"text-align: right;\">\n",
       "      <th></th>\n",
       "      <th>name</th>\n",
       "      <th>region</th>\n",
       "      <th>subregion</th>\n",
       "      <th>side</th>\n",
       "      <th>fused_from</th>\n",
       "    </tr>\n",
       "  </thead>\n",
       "  <tbody>\n",
       "    <tr>\n",
       "      <th>0</th>\n",
       "      <td>frontal</td>\n",
       "      <td>head</td>\n",
       "      <td>cranium</td>\n",
       "      <td>center</td>\n",
       "      <td>2</td>\n",
       "    </tr>\n",
       "    <tr>\n",
       "      <th>1</th>\n",
       "      <td>left parietal</td>\n",
       "      <td>head</td>\n",
       "      <td>cranium</td>\n",
       "      <td>left</td>\n",
       "      <td>1</td>\n",
       "    </tr>\n",
       "    <tr>\n",
       "      <th>2</th>\n",
       "      <td>right parietal</td>\n",
       "      <td>head</td>\n",
       "      <td>cranium</td>\n",
       "      <td>right</td>\n",
       "      <td>1</td>\n",
       "    </tr>\n",
       "    <tr>\n",
       "      <th>3</th>\n",
       "      <td>left temporal</td>\n",
       "      <td>head</td>\n",
       "      <td>cranium</td>\n",
       "      <td>left</td>\n",
       "      <td>1</td>\n",
       "    </tr>\n",
       "    <tr>\n",
       "      <th>4</th>\n",
       "      <td>right temporal</td>\n",
       "      <td>head</td>\n",
       "      <td>cranium</td>\n",
       "      <td>right</td>\n",
       "      <td>1</td>\n",
       "    </tr>\n",
       "    <tr>\n",
       "      <th>...</th>\n",
       "      <td>...</td>\n",
       "      <td>...</td>\n",
       "      <td>...</td>\n",
       "      <td>...</td>\n",
       "      <td>...</td>\n",
       "    </tr>\n",
       "    <tr>\n",
       "      <th>201</th>\n",
       "      <td>right distal pedal phalanx 1</td>\n",
       "      <td>foot</td>\n",
       "      <td>toes</td>\n",
       "      <td>right</td>\n",
       "      <td>1</td>\n",
       "    </tr>\n",
       "    <tr>\n",
       "      <th>202</th>\n",
       "      <td>right distal pedal phalanx 2</td>\n",
       "      <td>foot</td>\n",
       "      <td>toes</td>\n",
       "      <td>right</td>\n",
       "      <td>1</td>\n",
       "    </tr>\n",
       "    <tr>\n",
       "      <th>203</th>\n",
       "      <td>right distal pedal phalanx 3</td>\n",
       "      <td>foot</td>\n",
       "      <td>toes</td>\n",
       "      <td>right</td>\n",
       "      <td>1</td>\n",
       "    </tr>\n",
       "    <tr>\n",
       "      <th>204</th>\n",
       "      <td>right distal pedal phalanx 4</td>\n",
       "      <td>foot</td>\n",
       "      <td>toes</td>\n",
       "      <td>right</td>\n",
       "      <td>1</td>\n",
       "    </tr>\n",
       "    <tr>\n",
       "      <th>205</th>\n",
       "      <td>right distal pedal phalanx 5</td>\n",
       "      <td>foot</td>\n",
       "      <td>toes</td>\n",
       "      <td>right</td>\n",
       "      <td>1</td>\n",
       "    </tr>\n",
       "  </tbody>\n",
       "</table>\n",
       "<p>206 rows × 5 columns</p>\n",
       "</div>"
      ],
      "text/plain": [
       "                             name region subregion    side  fused_from\n",
       "0                         frontal   head   cranium  center           2\n",
       "1                   left parietal   head   cranium    left           1\n",
       "2                  right parietal   head   cranium   right           1\n",
       "3                   left temporal   head   cranium    left           1\n",
       "4                  right temporal   head   cranium   right           1\n",
       "..                            ...    ...       ...     ...         ...\n",
       "201  right distal pedal phalanx 1   foot      toes   right           1\n",
       "202  right distal pedal phalanx 2   foot      toes   right           1\n",
       "203  right distal pedal phalanx 3   foot      toes   right           1\n",
       "204  right distal pedal phalanx 4   foot      toes   right           1\n",
       "205  right distal pedal phalanx 5   foot      toes   right           1\n",
       "\n",
       "[206 rows x 5 columns]"
      ]
     },
     "execution_count": 106,
     "metadata": {},
     "output_type": "execute_result"
    }
   ],
   "source": [
    "import pandas as pd\n",
    "df = pd.read_csv('adult-human-skeleton.csv')\n",
    "df #display the dataframe"
   ]
  },
  {
   "cell_type": "markdown",
   "metadata": {},
   "source": [
    "Each row represents one bone in the adult human body. We can see that adults have 206 bones. What can we learn about these bones?\n",
    "\n",
    "### Claim: Half the bones are in the hands and feet\n",
    "\n",
    "You might have heard the claim that over half the bones in your body are found in your hands and feet. Is this claim true or is it an urban legend?\n",
    "\n",
    "Let's see how many bones are in each region using the `value_counts()` method.\n",
    "\n",
    "Activity Goal:\n",
    "- Find the counts for each value in the 'region' column."
   ]
  },
  {
   "cell_type": "code",
   "execution_count": 107,
   "metadata": {},
   "outputs": [
    {
     "data": {
      "text/plain": [
       "region\n",
       "hand     54\n",
       "foot     52\n",
       "torso    50\n",
       "head     28\n",
       "neck      8\n",
       "leg       8\n",
       "arm       6\n",
       "Name: count, dtype: int64"
      ]
     },
     "execution_count": 107,
     "metadata": {},
     "output_type": "execute_result"
    }
   ],
   "source": [
    "df['region'].value_counts()"
   ]
  },
  {
   "cell_type": "markdown",
   "metadata": {},
   "source": [
    "The hands have a total of 54 bones ,and the feet have 52 bones.\n",
    "\n",
    "Earlier we saw that the entire body has 206 bones. Using python, we can calculate what proportion are in the hands and feet. Run the code below:"
   ]
  },
  {
   "cell_type": "code",
   "execution_count": 108,
   "metadata": {},
   "outputs": [
    {
     "data": {
      "text/plain": [
       "0.5145631067961165"
      ]
     },
     "execution_count": 108,
     "metadata": {},
     "output_type": "execute_result"
    }
   ],
   "source": [
    "(54 + 52) / 206"
   ]
  },
  {
   "cell_type": "markdown",
   "metadata": {},
   "source": [
    "Over 51% of bones are found in the hands and feet. The claim is true!\n",
    "\n",
    "### Baby bones\n",
    "\n",
    "Infants have more bones than adults, but as the baby develops, groups of bones fuse together. This is detailed in the `'fused_from'` column of our data.\n",
    "\n",
    "Let's sort the values in this `'fused_from'` column.\n",
    "\n",
    "Activity Goals:\n",
    "- Sort the dataframe by the `'fused_from'` column.\n",
    "- Use descending order."
   ]
  },
  {
   "cell_type": "code",
   "execution_count": 109,
   "metadata": {},
   "outputs": [
    {
     "data": {
      "text/html": [
       "<div>\n",
       "<style scoped>\n",
       "    .dataframe tbody tr th:only-of-type {\n",
       "        vertical-align: middle;\n",
       "    }\n",
       "\n",
       "    .dataframe tbody tr th {\n",
       "        vertical-align: top;\n",
       "    }\n",
       "\n",
       "    .dataframe thead th {\n",
       "        text-align: right;\n",
       "    }\n",
       "</style>\n",
       "<table border=\"1\" class=\"dataframe\">\n",
       "  <thead>\n",
       "    <tr style=\"text-align: right;\">\n",
       "      <th></th>\n",
       "      <th>name</th>\n",
       "      <th>region</th>\n",
       "      <th>subregion</th>\n",
       "      <th>side</th>\n",
       "      <th>fused_from</th>\n",
       "    </tr>\n",
       "  </thead>\n",
       "  <tbody>\n",
       "    <tr>\n",
       "      <th>40</th>\n",
       "      <td>sternum</td>\n",
       "      <td>torso</td>\n",
       "      <td>chest</td>\n",
       "      <td>center</td>\n",
       "      <td>6</td>\n",
       "    </tr>\n",
       "    <tr>\n",
       "      <th>30</th>\n",
       "      <td>c2</td>\n",
       "      <td>neck</td>\n",
       "      <td>vertebra</td>\n",
       "      <td>center</td>\n",
       "      <td>5</td>\n",
       "    </tr>\n",
       "    <tr>\n",
       "      <th>82</th>\n",
       "      <td>sacrum</td>\n",
       "      <td>torso</td>\n",
       "      <td>pelvis</td>\n",
       "      <td>center</td>\n",
       "      <td>5</td>\n",
       "    </tr>\n",
       "    <tr>\n",
       "      <th>5</th>\n",
       "      <td>occipital</td>\n",
       "      <td>head</td>\n",
       "      <td>cranium</td>\n",
       "      <td>center</td>\n",
       "      <td>4</td>\n",
       "    </tr>\n",
       "    <tr>\n",
       "      <th>83</th>\n",
       "      <td>coccyx</td>\n",
       "      <td>torso</td>\n",
       "      <td>pelvis</td>\n",
       "      <td>center</td>\n",
       "      <td>4</td>\n",
       "    </tr>\n",
       "    <tr>\n",
       "      <th>...</th>\n",
       "      <td>...</td>\n",
       "      <td>...</td>\n",
       "      <td>...</td>\n",
       "      <td>...</td>\n",
       "      <td>...</td>\n",
       "    </tr>\n",
       "    <tr>\n",
       "      <th>201</th>\n",
       "      <td>right distal pedal phalanx 1</td>\n",
       "      <td>foot</td>\n",
       "      <td>toes</td>\n",
       "      <td>right</td>\n",
       "      <td>1</td>\n",
       "    </tr>\n",
       "    <tr>\n",
       "      <th>202</th>\n",
       "      <td>right distal pedal phalanx 2</td>\n",
       "      <td>foot</td>\n",
       "      <td>toes</td>\n",
       "      <td>right</td>\n",
       "      <td>1</td>\n",
       "    </tr>\n",
       "    <tr>\n",
       "      <th>203</th>\n",
       "      <td>right distal pedal phalanx 3</td>\n",
       "      <td>foot</td>\n",
       "      <td>toes</td>\n",
       "      <td>right</td>\n",
       "      <td>1</td>\n",
       "    </tr>\n",
       "    <tr>\n",
       "      <th>204</th>\n",
       "      <td>right distal pedal phalanx 4</td>\n",
       "      <td>foot</td>\n",
       "      <td>toes</td>\n",
       "      <td>right</td>\n",
       "      <td>1</td>\n",
       "    </tr>\n",
       "    <tr>\n",
       "      <th>205</th>\n",
       "      <td>right distal pedal phalanx 5</td>\n",
       "      <td>foot</td>\n",
       "      <td>toes</td>\n",
       "      <td>right</td>\n",
       "      <td>1</td>\n",
       "    </tr>\n",
       "  </tbody>\n",
       "</table>\n",
       "<p>206 rows × 5 columns</p>\n",
       "</div>"
      ],
      "text/plain": [
       "                             name region subregion    side  fused_from\n",
       "40                        sternum  torso     chest  center           6\n",
       "30                             c2   neck  vertebra  center           5\n",
       "82                         sacrum  torso    pelvis  center           5\n",
       "5                       occipital   head   cranium  center           4\n",
       "83                         coccyx  torso    pelvis  center           4\n",
       "..                            ...    ...       ...     ...         ...\n",
       "201  right distal pedal phalanx 1   foot      toes   right           1\n",
       "202  right distal pedal phalanx 2   foot      toes   right           1\n",
       "203  right distal pedal phalanx 3   foot      toes   right           1\n",
       "204  right distal pedal phalanx 4   foot      toes   right           1\n",
       "205  right distal pedal phalanx 5   foot      toes   right           1\n",
       "\n",
       "[206 rows x 5 columns]"
      ]
     },
     "execution_count": 109,
     "metadata": {},
     "output_type": "execute_result"
    }
   ],
   "source": [
    "df.sort_values(by='fused_from', ascending=False)"
   ]
  },
  {
   "cell_type": "markdown",
   "metadata": {},
   "source": [
    "This shows a wide variety of bone fusion across the body. For example, the sternum is formed from the fusion of 6 bones.\n",
    "\n",
    "Before all this fusion takes place, how many bones do infants have? We can answer this by calculating the `sum()` of all the fused_from values.\n",
    "\n",
    "Activity Goals:\n",
    "- Select the `'fused_from'` column.\n",
    "- Add up all values in that column."
   ]
  },
  {
   "cell_type": "code",
   "execution_count": 110,
   "metadata": {},
   "outputs": [
    {
     "data": {
      "text/plain": [
       "np.int64(305)"
      ]
     },
     "execution_count": 110,
     "metadata": {},
     "output_type": "execute_result"
    }
   ],
   "source": [
    "df['fused_from'].sum()"
   ]
  },
  {
   "cell_type": "markdown",
   "metadata": {},
   "source": [
    "Human infants have 305 bones, many of which fuse together, resulting in 206 bones in the adult body.\n",
    "\n",
    "### Human neck bones\n",
    "\n",
    "Necks are quite flexible. How many bones are in the human neck to allow for that flexibility?\n",
    "\n",
    "Let's use the `query()` method to find out.\n",
    "\n",
    "Activity Goal:\n",
    "- Find all rows where the region is 'neck'."
   ]
  },
  {
   "cell_type": "code",
   "execution_count": 111,
   "metadata": {},
   "outputs": [
    {
     "data": {
      "text/html": [
       "<div>\n",
       "<style scoped>\n",
       "    .dataframe tbody tr th:only-of-type {\n",
       "        vertical-align: middle;\n",
       "    }\n",
       "\n",
       "    .dataframe tbody tr th {\n",
       "        vertical-align: top;\n",
       "    }\n",
       "\n",
       "    .dataframe thead th {\n",
       "        text-align: right;\n",
       "    }\n",
       "</style>\n",
       "<table border=\"1\" class=\"dataframe\">\n",
       "  <thead>\n",
       "    <tr style=\"text-align: right;\">\n",
       "      <th></th>\n",
       "      <th>name</th>\n",
       "      <th>region</th>\n",
       "      <th>subregion</th>\n",
       "      <th>side</th>\n",
       "      <th>fused_from</th>\n",
       "    </tr>\n",
       "  </thead>\n",
       "  <tbody>\n",
       "    <tr>\n",
       "      <th>92</th>\n",
       "      <td>left scaphoid</td>\n",
       "      <td>hand</td>\n",
       "      <td>wrist</td>\n",
       "      <td>left</td>\n",
       "      <td>1</td>\n",
       "    </tr>\n",
       "    <tr>\n",
       "      <th>93</th>\n",
       "      <td>right scaphoid</td>\n",
       "      <td>hand</td>\n",
       "      <td>wrist</td>\n",
       "      <td>right</td>\n",
       "      <td>1</td>\n",
       "    </tr>\n",
       "    <tr>\n",
       "      <th>94</th>\n",
       "      <td>left lunate</td>\n",
       "      <td>hand</td>\n",
       "      <td>wrist</td>\n",
       "      <td>left</td>\n",
       "      <td>1</td>\n",
       "    </tr>\n",
       "    <tr>\n",
       "      <th>95</th>\n",
       "      <td>right lunate</td>\n",
       "      <td>hand</td>\n",
       "      <td>wrist</td>\n",
       "      <td>right</td>\n",
       "      <td>1</td>\n",
       "    </tr>\n",
       "    <tr>\n",
       "      <th>96</th>\n",
       "      <td>left triquetral</td>\n",
       "      <td>hand</td>\n",
       "      <td>wrist</td>\n",
       "      <td>left</td>\n",
       "      <td>1</td>\n",
       "    </tr>\n",
       "    <tr>\n",
       "      <th>97</th>\n",
       "      <td>right triquetral</td>\n",
       "      <td>hand</td>\n",
       "      <td>wrist</td>\n",
       "      <td>right</td>\n",
       "      <td>1</td>\n",
       "    </tr>\n",
       "    <tr>\n",
       "      <th>98</th>\n",
       "      <td>left pisiform</td>\n",
       "      <td>hand</td>\n",
       "      <td>wrist</td>\n",
       "      <td>left</td>\n",
       "      <td>1</td>\n",
       "    </tr>\n",
       "    <tr>\n",
       "      <th>99</th>\n",
       "      <td>right pisiform</td>\n",
       "      <td>hand</td>\n",
       "      <td>wrist</td>\n",
       "      <td>right</td>\n",
       "      <td>1</td>\n",
       "    </tr>\n",
       "    <tr>\n",
       "      <th>100</th>\n",
       "      <td>left trapezium</td>\n",
       "      <td>hand</td>\n",
       "      <td>wrist</td>\n",
       "      <td>left</td>\n",
       "      <td>1</td>\n",
       "    </tr>\n",
       "    <tr>\n",
       "      <th>101</th>\n",
       "      <td>right trapezium</td>\n",
       "      <td>hand</td>\n",
       "      <td>wrist</td>\n",
       "      <td>right</td>\n",
       "      <td>1</td>\n",
       "    </tr>\n",
       "    <tr>\n",
       "      <th>102</th>\n",
       "      <td>left trapezoid</td>\n",
       "      <td>hand</td>\n",
       "      <td>wrist</td>\n",
       "      <td>left</td>\n",
       "      <td>1</td>\n",
       "    </tr>\n",
       "    <tr>\n",
       "      <th>103</th>\n",
       "      <td>right trapezoid</td>\n",
       "      <td>hand</td>\n",
       "      <td>wrist</td>\n",
       "      <td>right</td>\n",
       "      <td>1</td>\n",
       "    </tr>\n",
       "    <tr>\n",
       "      <th>104</th>\n",
       "      <td>left capitate</td>\n",
       "      <td>hand</td>\n",
       "      <td>wrist</td>\n",
       "      <td>left</td>\n",
       "      <td>1</td>\n",
       "    </tr>\n",
       "    <tr>\n",
       "      <th>105</th>\n",
       "      <td>right capitate</td>\n",
       "      <td>hand</td>\n",
       "      <td>wrist</td>\n",
       "      <td>right</td>\n",
       "      <td>1</td>\n",
       "    </tr>\n",
       "    <tr>\n",
       "      <th>106</th>\n",
       "      <td>left hamate</td>\n",
       "      <td>hand</td>\n",
       "      <td>wrist</td>\n",
       "      <td>left</td>\n",
       "      <td>1</td>\n",
       "    </tr>\n",
       "    <tr>\n",
       "      <th>107</th>\n",
       "      <td>right hamate</td>\n",
       "      <td>hand</td>\n",
       "      <td>wrist</td>\n",
       "      <td>right</td>\n",
       "      <td>1</td>\n",
       "    </tr>\n",
       "    <tr>\n",
       "      <th>108</th>\n",
       "      <td>left metacarpal 1</td>\n",
       "      <td>hand</td>\n",
       "      <td>palm</td>\n",
       "      <td>left</td>\n",
       "      <td>1</td>\n",
       "    </tr>\n",
       "    <tr>\n",
       "      <th>109</th>\n",
       "      <td>left metacarpal 2</td>\n",
       "      <td>hand</td>\n",
       "      <td>palm</td>\n",
       "      <td>left</td>\n",
       "      <td>1</td>\n",
       "    </tr>\n",
       "    <tr>\n",
       "      <th>110</th>\n",
       "      <td>left metacarpal 3</td>\n",
       "      <td>hand</td>\n",
       "      <td>palm</td>\n",
       "      <td>left</td>\n",
       "      <td>1</td>\n",
       "    </tr>\n",
       "    <tr>\n",
       "      <th>111</th>\n",
       "      <td>left metacarpal 4</td>\n",
       "      <td>hand</td>\n",
       "      <td>palm</td>\n",
       "      <td>left</td>\n",
       "      <td>1</td>\n",
       "    </tr>\n",
       "    <tr>\n",
       "      <th>112</th>\n",
       "      <td>left metacarpal 5</td>\n",
       "      <td>hand</td>\n",
       "      <td>palm</td>\n",
       "      <td>left</td>\n",
       "      <td>1</td>\n",
       "    </tr>\n",
       "    <tr>\n",
       "      <th>113</th>\n",
       "      <td>right metacarpal 1</td>\n",
       "      <td>hand</td>\n",
       "      <td>palm</td>\n",
       "      <td>right</td>\n",
       "      <td>1</td>\n",
       "    </tr>\n",
       "    <tr>\n",
       "      <th>114</th>\n",
       "      <td>right metacarpal 2</td>\n",
       "      <td>hand</td>\n",
       "      <td>palm</td>\n",
       "      <td>right</td>\n",
       "      <td>1</td>\n",
       "    </tr>\n",
       "    <tr>\n",
       "      <th>115</th>\n",
       "      <td>right metacarpal 3</td>\n",
       "      <td>hand</td>\n",
       "      <td>palm</td>\n",
       "      <td>right</td>\n",
       "      <td>1</td>\n",
       "    </tr>\n",
       "    <tr>\n",
       "      <th>116</th>\n",
       "      <td>right metacarpal 4</td>\n",
       "      <td>hand</td>\n",
       "      <td>palm</td>\n",
       "      <td>right</td>\n",
       "      <td>1</td>\n",
       "    </tr>\n",
       "    <tr>\n",
       "      <th>117</th>\n",
       "      <td>right metacarpal 5</td>\n",
       "      <td>hand</td>\n",
       "      <td>palm</td>\n",
       "      <td>right</td>\n",
       "      <td>1</td>\n",
       "    </tr>\n",
       "    <tr>\n",
       "      <th>118</th>\n",
       "      <td>left proximal manual phalanx 1</td>\n",
       "      <td>hand</td>\n",
       "      <td>fingers</td>\n",
       "      <td>left</td>\n",
       "      <td>1</td>\n",
       "    </tr>\n",
       "    <tr>\n",
       "      <th>119</th>\n",
       "      <td>left proximal manual phalanx 2</td>\n",
       "      <td>hand</td>\n",
       "      <td>fingers</td>\n",
       "      <td>left</td>\n",
       "      <td>1</td>\n",
       "    </tr>\n",
       "    <tr>\n",
       "      <th>120</th>\n",
       "      <td>left proximal manual phalanx 3</td>\n",
       "      <td>hand</td>\n",
       "      <td>fingers</td>\n",
       "      <td>left</td>\n",
       "      <td>1</td>\n",
       "    </tr>\n",
       "    <tr>\n",
       "      <th>121</th>\n",
       "      <td>left proximal manual phalanx 4</td>\n",
       "      <td>hand</td>\n",
       "      <td>fingers</td>\n",
       "      <td>left</td>\n",
       "      <td>1</td>\n",
       "    </tr>\n",
       "    <tr>\n",
       "      <th>122</th>\n",
       "      <td>left proximal manual phalanx 5</td>\n",
       "      <td>hand</td>\n",
       "      <td>fingers</td>\n",
       "      <td>left</td>\n",
       "      <td>1</td>\n",
       "    </tr>\n",
       "    <tr>\n",
       "      <th>123</th>\n",
       "      <td>right proximal manual phalanx 1</td>\n",
       "      <td>hand</td>\n",
       "      <td>fingers</td>\n",
       "      <td>right</td>\n",
       "      <td>1</td>\n",
       "    </tr>\n",
       "    <tr>\n",
       "      <th>124</th>\n",
       "      <td>right proximal manual phalanx 2</td>\n",
       "      <td>hand</td>\n",
       "      <td>fingers</td>\n",
       "      <td>right</td>\n",
       "      <td>1</td>\n",
       "    </tr>\n",
       "    <tr>\n",
       "      <th>125</th>\n",
       "      <td>right proximal manual phalanx 3</td>\n",
       "      <td>hand</td>\n",
       "      <td>fingers</td>\n",
       "      <td>right</td>\n",
       "      <td>1</td>\n",
       "    </tr>\n",
       "    <tr>\n",
       "      <th>126</th>\n",
       "      <td>right proximal manual phalanx 4</td>\n",
       "      <td>hand</td>\n",
       "      <td>fingers</td>\n",
       "      <td>right</td>\n",
       "      <td>1</td>\n",
       "    </tr>\n",
       "    <tr>\n",
       "      <th>127</th>\n",
       "      <td>right proximal manual phalanx 5</td>\n",
       "      <td>hand</td>\n",
       "      <td>fingers</td>\n",
       "      <td>right</td>\n",
       "      <td>1</td>\n",
       "    </tr>\n",
       "    <tr>\n",
       "      <th>128</th>\n",
       "      <td>left intermediate manual phalanx 2</td>\n",
       "      <td>hand</td>\n",
       "      <td>fingers</td>\n",
       "      <td>left</td>\n",
       "      <td>1</td>\n",
       "    </tr>\n",
       "    <tr>\n",
       "      <th>129</th>\n",
       "      <td>left intermediate manual phalanx 3</td>\n",
       "      <td>hand</td>\n",
       "      <td>fingers</td>\n",
       "      <td>left</td>\n",
       "      <td>1</td>\n",
       "    </tr>\n",
       "    <tr>\n",
       "      <th>130</th>\n",
       "      <td>left intermediate manual phalanx 4</td>\n",
       "      <td>hand</td>\n",
       "      <td>fingers</td>\n",
       "      <td>left</td>\n",
       "      <td>1</td>\n",
       "    </tr>\n",
       "    <tr>\n",
       "      <th>131</th>\n",
       "      <td>left intermediate manual phalanx 5</td>\n",
       "      <td>hand</td>\n",
       "      <td>fingers</td>\n",
       "      <td>left</td>\n",
       "      <td>1</td>\n",
       "    </tr>\n",
       "    <tr>\n",
       "      <th>132</th>\n",
       "      <td>right intermediate manual phalanx 2</td>\n",
       "      <td>hand</td>\n",
       "      <td>fingers</td>\n",
       "      <td>right</td>\n",
       "      <td>1</td>\n",
       "    </tr>\n",
       "    <tr>\n",
       "      <th>133</th>\n",
       "      <td>right intermediate manual phalanx 3</td>\n",
       "      <td>hand</td>\n",
       "      <td>fingers</td>\n",
       "      <td>right</td>\n",
       "      <td>1</td>\n",
       "    </tr>\n",
       "    <tr>\n",
       "      <th>134</th>\n",
       "      <td>right intermediate manual phalanx 4</td>\n",
       "      <td>hand</td>\n",
       "      <td>fingers</td>\n",
       "      <td>right</td>\n",
       "      <td>1</td>\n",
       "    </tr>\n",
       "    <tr>\n",
       "      <th>135</th>\n",
       "      <td>right intermediate manual phalanx 5</td>\n",
       "      <td>hand</td>\n",
       "      <td>fingers</td>\n",
       "      <td>right</td>\n",
       "      <td>1</td>\n",
       "    </tr>\n",
       "    <tr>\n",
       "      <th>136</th>\n",
       "      <td>left distal manual phalanx 1</td>\n",
       "      <td>hand</td>\n",
       "      <td>fingers</td>\n",
       "      <td>left</td>\n",
       "      <td>1</td>\n",
       "    </tr>\n",
       "    <tr>\n",
       "      <th>137</th>\n",
       "      <td>left distal manual phalanx 2</td>\n",
       "      <td>hand</td>\n",
       "      <td>fingers</td>\n",
       "      <td>left</td>\n",
       "      <td>1</td>\n",
       "    </tr>\n",
       "    <tr>\n",
       "      <th>138</th>\n",
       "      <td>left distal manual phalanx 3</td>\n",
       "      <td>hand</td>\n",
       "      <td>fingers</td>\n",
       "      <td>left</td>\n",
       "      <td>1</td>\n",
       "    </tr>\n",
       "    <tr>\n",
       "      <th>139</th>\n",
       "      <td>left distal manual phalanx 4</td>\n",
       "      <td>hand</td>\n",
       "      <td>fingers</td>\n",
       "      <td>left</td>\n",
       "      <td>1</td>\n",
       "    </tr>\n",
       "    <tr>\n",
       "      <th>140</th>\n",
       "      <td>left distal manual phalanx 5</td>\n",
       "      <td>hand</td>\n",
       "      <td>fingers</td>\n",
       "      <td>left</td>\n",
       "      <td>1</td>\n",
       "    </tr>\n",
       "    <tr>\n",
       "      <th>141</th>\n",
       "      <td>right distal manual phalanx 1</td>\n",
       "      <td>hand</td>\n",
       "      <td>fingers</td>\n",
       "      <td>right</td>\n",
       "      <td>1</td>\n",
       "    </tr>\n",
       "    <tr>\n",
       "      <th>142</th>\n",
       "      <td>right distal manual phalanx 2</td>\n",
       "      <td>hand</td>\n",
       "      <td>fingers</td>\n",
       "      <td>right</td>\n",
       "      <td>1</td>\n",
       "    </tr>\n",
       "    <tr>\n",
       "      <th>143</th>\n",
       "      <td>right distal manual phalanx 3</td>\n",
       "      <td>hand</td>\n",
       "      <td>fingers</td>\n",
       "      <td>right</td>\n",
       "      <td>1</td>\n",
       "    </tr>\n",
       "    <tr>\n",
       "      <th>144</th>\n",
       "      <td>right distal manual phalanx 4</td>\n",
       "      <td>hand</td>\n",
       "      <td>fingers</td>\n",
       "      <td>right</td>\n",
       "      <td>1</td>\n",
       "    </tr>\n",
       "    <tr>\n",
       "      <th>145</th>\n",
       "      <td>right distal manual phalanx 5</td>\n",
       "      <td>hand</td>\n",
       "      <td>fingers</td>\n",
       "      <td>right</td>\n",
       "      <td>1</td>\n",
       "    </tr>\n",
       "  </tbody>\n",
       "</table>\n",
       "</div>"
      ],
      "text/plain": [
       "                                    name region subregion   side  fused_from\n",
       "92                         left scaphoid   hand     wrist   left           1\n",
       "93                        right scaphoid   hand     wrist  right           1\n",
       "94                           left lunate   hand     wrist   left           1\n",
       "95                          right lunate   hand     wrist  right           1\n",
       "96                       left triquetral   hand     wrist   left           1\n",
       "97                      right triquetral   hand     wrist  right           1\n",
       "98                         left pisiform   hand     wrist   left           1\n",
       "99                        right pisiform   hand     wrist  right           1\n",
       "100                       left trapezium   hand     wrist   left           1\n",
       "101                      right trapezium   hand     wrist  right           1\n",
       "102                       left trapezoid   hand     wrist   left           1\n",
       "103                      right trapezoid   hand     wrist  right           1\n",
       "104                        left capitate   hand     wrist   left           1\n",
       "105                       right capitate   hand     wrist  right           1\n",
       "106                          left hamate   hand     wrist   left           1\n",
       "107                         right hamate   hand     wrist  right           1\n",
       "108                    left metacarpal 1   hand      palm   left           1\n",
       "109                    left metacarpal 2   hand      palm   left           1\n",
       "110                    left metacarpal 3   hand      palm   left           1\n",
       "111                    left metacarpal 4   hand      palm   left           1\n",
       "112                    left metacarpal 5   hand      palm   left           1\n",
       "113                   right metacarpal 1   hand      palm  right           1\n",
       "114                   right metacarpal 2   hand      palm  right           1\n",
       "115                   right metacarpal 3   hand      palm  right           1\n",
       "116                   right metacarpal 4   hand      palm  right           1\n",
       "117                   right metacarpal 5   hand      palm  right           1\n",
       "118       left proximal manual phalanx 1   hand   fingers   left           1\n",
       "119       left proximal manual phalanx 2   hand   fingers   left           1\n",
       "120       left proximal manual phalanx 3   hand   fingers   left           1\n",
       "121       left proximal manual phalanx 4   hand   fingers   left           1\n",
       "122       left proximal manual phalanx 5   hand   fingers   left           1\n",
       "123      right proximal manual phalanx 1   hand   fingers  right           1\n",
       "124      right proximal manual phalanx 2   hand   fingers  right           1\n",
       "125      right proximal manual phalanx 3   hand   fingers  right           1\n",
       "126      right proximal manual phalanx 4   hand   fingers  right           1\n",
       "127      right proximal manual phalanx 5   hand   fingers  right           1\n",
       "128   left intermediate manual phalanx 2   hand   fingers   left           1\n",
       "129   left intermediate manual phalanx 3   hand   fingers   left           1\n",
       "130   left intermediate manual phalanx 4   hand   fingers   left           1\n",
       "131   left intermediate manual phalanx 5   hand   fingers   left           1\n",
       "132  right intermediate manual phalanx 2   hand   fingers  right           1\n",
       "133  right intermediate manual phalanx 3   hand   fingers  right           1\n",
       "134  right intermediate manual phalanx 4   hand   fingers  right           1\n",
       "135  right intermediate manual phalanx 5   hand   fingers  right           1\n",
       "136         left distal manual phalanx 1   hand   fingers   left           1\n",
       "137         left distal manual phalanx 2   hand   fingers   left           1\n",
       "138         left distal manual phalanx 3   hand   fingers   left           1\n",
       "139         left distal manual phalanx 4   hand   fingers   left           1\n",
       "140         left distal manual phalanx 5   hand   fingers   left           1\n",
       "141        right distal manual phalanx 1   hand   fingers  right           1\n",
       "142        right distal manual phalanx 2   hand   fingers  right           1\n",
       "143        right distal manual phalanx 3   hand   fingers  right           1\n",
       "144        right distal manual phalanx 4   hand   fingers  right           1\n",
       "145        right distal manual phalanx 5   hand   fingers  right           1"
      ]
     },
     "execution_count": 111,
     "metadata": {},
     "output_type": "execute_result"
    }
   ],
   "source": [
    "df.query('region == \"hand\"')"
   ]
  },
  {
   "cell_type": "markdown",
   "metadata": {},
   "source": [
    "The neck has 1 throat bone, and a stack of 7 neck vertebrae, named C1 through C7. The \"C\" stands for cervical, meaning neck. These 7 cervical vertebrae form the top of the spinal column.\n",
    "\n",
    "So, humans have 7 neck vertebrae. What about other mammals?\n",
    "\n",
    "### Mammal neck bones\n",
    "\n",
    "This project includes the <code>'mammal-neck-bones.csv'</code> file. Let's load it so we can explore the necks of other mammals.\n",
    "\n",
    "Activity Goals:\n",
    "- Load the mammal neck data.\n",
    "- Display it."
   ]
  },
  {
   "cell_type": "code",
   "execution_count": 112,
   "metadata": {},
   "outputs": [
    {
     "data": {
      "text/html": [
       "<div>\n",
       "<style scoped>\n",
       "    .dataframe tbody tr th:only-of-type {\n",
       "        vertical-align: middle;\n",
       "    }\n",
       "\n",
       "    .dataframe tbody tr th {\n",
       "        vertical-align: top;\n",
       "    }\n",
       "\n",
       "    .dataframe thead th {\n",
       "        text-align: right;\n",
       "    }\n",
       "</style>\n",
       "<table border=\"1\" class=\"dataframe\">\n",
       "  <thead>\n",
       "    <tr style=\"text-align: right;\">\n",
       "      <th></th>\n",
       "      <th>species</th>\n",
       "      <th>neck_vertebrae</th>\n",
       "    </tr>\n",
       "  </thead>\n",
       "  <tbody>\n",
       "    <tr>\n",
       "      <th>0</th>\n",
       "      <td>cheetah</td>\n",
       "      <td>7</td>\n",
       "    </tr>\n",
       "    <tr>\n",
       "      <th>1</th>\n",
       "      <td>impala</td>\n",
       "      <td>7</td>\n",
       "    </tr>\n",
       "    <tr>\n",
       "      <th>2</th>\n",
       "      <td>giant panda</td>\n",
       "      <td>7</td>\n",
       "    </tr>\n",
       "    <tr>\n",
       "      <th>3</th>\n",
       "      <td>hartebeest</td>\n",
       "      <td>7</td>\n",
       "    </tr>\n",
       "    <tr>\n",
       "      <th>4</th>\n",
       "      <td>moose</td>\n",
       "      <td>7</td>\n",
       "    </tr>\n",
       "    <tr>\n",
       "      <th>...</th>\n",
       "      <td>...</td>\n",
       "      <td>...</td>\n",
       "    </tr>\n",
       "    <tr>\n",
       "      <th>297</th>\n",
       "      <td>alpaca</td>\n",
       "      <td>7</td>\n",
       "    </tr>\n",
       "    <tr>\n",
       "      <th>298</th>\n",
       "      <td>common wombat</td>\n",
       "      <td>7</td>\n",
       "    </tr>\n",
       "    <tr>\n",
       "      <th>299</th>\n",
       "      <td>red fox</td>\n",
       "      <td>7</td>\n",
       "    </tr>\n",
       "    <tr>\n",
       "      <th>300</th>\n",
       "      <td>fennec fox</td>\n",
       "      <td>7</td>\n",
       "    </tr>\n",
       "    <tr>\n",
       "      <th>301</th>\n",
       "      <td>california sea lion</td>\n",
       "      <td>7</td>\n",
       "    </tr>\n",
       "  </tbody>\n",
       "</table>\n",
       "<p>302 rows × 2 columns</p>\n",
       "</div>"
      ],
      "text/plain": [
       "                 species  neck_vertebrae\n",
       "0                cheetah               7\n",
       "1                 impala               7\n",
       "2            giant panda               7\n",
       "3             hartebeest               7\n",
       "4                  moose               7\n",
       "..                   ...             ...\n",
       "297               alpaca               7\n",
       "298        common wombat               7\n",
       "299              red fox               7\n",
       "300           fennec fox               7\n",
       "301  california sea lion               7\n",
       "\n",
       "[302 rows x 2 columns]"
      ]
     },
     "execution_count": 112,
     "metadata": {},
     "output_type": "execute_result"
    }
   ],
   "source": [
    "mammals = pd.read_csv('mammal-neck-bones.csv')\n",
    "mammals #display the dataframe"
   ]
  },
  {
   "cell_type": "markdown",
   "metadata": {},
   "source": [
    "The rows shown above all have 7 neck vertebrae, but is this true for all 302 mammals in this dataset? Let's use a `query()` to find the data for giraffes, which we know have really long necks.\n",
    "\n",
    "Activity Goal:\n",
    "- Show rows where the species is 'giraffe'."
   ]
  },
  {
   "cell_type": "code",
   "execution_count": 113,
   "metadata": {},
   "outputs": [
    {
     "data": {
      "text/html": [
       "<div>\n",
       "<style scoped>\n",
       "    .dataframe tbody tr th:only-of-type {\n",
       "        vertical-align: middle;\n",
       "    }\n",
       "\n",
       "    .dataframe tbody tr th {\n",
       "        vertical-align: top;\n",
       "    }\n",
       "\n",
       "    .dataframe thead th {\n",
       "        text-align: right;\n",
       "    }\n",
       "</style>\n",
       "<table border=\"1\" class=\"dataframe\">\n",
       "  <thead>\n",
       "    <tr style=\"text-align: right;\">\n",
       "      <th></th>\n",
       "      <th>species</th>\n",
       "      <th>neck_vertebrae</th>\n",
       "    </tr>\n",
       "  </thead>\n",
       "  <tbody>\n",
       "    <tr>\n",
       "      <th>35</th>\n",
       "      <td>coyote</td>\n",
       "      <td>7</td>\n",
       "    </tr>\n",
       "  </tbody>\n",
       "</table>\n",
       "</div>"
      ],
      "text/plain": [
       "   species  neck_vertebrae\n",
       "35  coyote               7"
      ]
     },
     "execution_count": 113,
     "metadata": {},
     "output_type": "execute_result"
    }
   ],
   "source": [
    "mammals.query('species == \"coyote\"')"
   ]
  },
  {
   "cell_type": "markdown",
   "metadata": {},
   "source": [
    "Despite their very long necks, giraffes also have 7 neck vertebrae!\n",
    "\n",
    "So, do all mammals have 7 vertebrae? We can use another `query()` to search for any rows where neck_vertebrae is not 7.\n",
    "\n",
    "Activity Goal:\n",
    "- Search for rows where the number of vertebrae does not equal 7."
   ]
  },
  {
   "cell_type": "code",
   "execution_count": 114,
   "metadata": {},
   "outputs": [
    {
     "data": {
      "text/html": [
       "<div>\n",
       "<style scoped>\n",
       "    .dataframe tbody tr th:only-of-type {\n",
       "        vertical-align: middle;\n",
       "    }\n",
       "\n",
       "    .dataframe tbody tr th {\n",
       "        vertical-align: top;\n",
       "    }\n",
       "\n",
       "    .dataframe thead th {\n",
       "        text-align: right;\n",
       "    }\n",
       "</style>\n",
       "<table border=\"1\" class=\"dataframe\">\n",
       "  <thead>\n",
       "    <tr style=\"text-align: right;\">\n",
       "      <th></th>\n",
       "      <th>species</th>\n",
       "      <th>neck_vertebrae</th>\n",
       "    </tr>\n",
       "  </thead>\n",
       "  <tbody>\n",
       "    <tr>\n",
       "      <th>27</th>\n",
       "      <td>pale-throated sloth</td>\n",
       "      <td>9</td>\n",
       "    </tr>\n",
       "    <tr>\n",
       "      <th>28</th>\n",
       "      <td>brown-throated sloth</td>\n",
       "      <td>9</td>\n",
       "    </tr>\n",
       "    <tr>\n",
       "      <th>60</th>\n",
       "      <td>hoffmann's two-toed sloth</td>\n",
       "      <td>6</td>\n",
       "    </tr>\n",
       "    <tr>\n",
       "      <th>291</th>\n",
       "      <td>west indian manatee</td>\n",
       "      <td>6</td>\n",
       "    </tr>\n",
       "  </tbody>\n",
       "</table>\n",
       "</div>"
      ],
      "text/plain": [
       "                       species  neck_vertebrae\n",
       "27         pale-throated sloth               9\n",
       "28        brown-throated sloth               9\n",
       "60   hoffmann's two-toed sloth               6\n",
       "291        west indian manatee               6"
      ]
     },
     "execution_count": 114,
     "metadata": {},
     "output_type": "execute_result"
    }
   ],
   "source": [
    "mammals.query('neck_vertebrae != 7')"
   ]
  },
  {
   "cell_type": "markdown",
   "metadata": {},
   "source": [
    "Aha! It looks like the only mammals without 7 vertebrae are manatees and sloths.\n",
    "\n",
    "### Bird neck bones\n",
    "\n",
    "While mammals mostly have 7 neck vertebrae, what about birds? Let's load in `'bird-neck-bones.csv'` to explore.\n",
    "\n",
    "Activity Goals:\n",
    "- Load the bird neck data.\n",
    "- Display it."
   ]
  },
  {
   "cell_type": "code",
   "execution_count": 115,
   "metadata": {},
   "outputs": [
    {
     "data": {
      "text/html": [
       "<div>\n",
       "<style scoped>\n",
       "    .dataframe tbody tr th:only-of-type {\n",
       "        vertical-align: middle;\n",
       "    }\n",
       "\n",
       "    .dataframe tbody tr th {\n",
       "        vertical-align: top;\n",
       "    }\n",
       "\n",
       "    .dataframe thead th {\n",
       "        text-align: right;\n",
       "    }\n",
       "</style>\n",
       "<table border=\"1\" class=\"dataframe\">\n",
       "  <thead>\n",
       "    <tr style=\"text-align: right;\">\n",
       "      <th></th>\n",
       "      <th>species</th>\n",
       "      <th>neck_vertebrae</th>\n",
       "    </tr>\n",
       "  </thead>\n",
       "  <tbody>\n",
       "    <tr>\n",
       "      <th>0</th>\n",
       "      <td>cinereous vulture</td>\n",
       "      <td>13</td>\n",
       "    </tr>\n",
       "    <tr>\n",
       "      <th>1</th>\n",
       "      <td>guineafowl</td>\n",
       "      <td>14</td>\n",
       "    </tr>\n",
       "    <tr>\n",
       "      <th>2</th>\n",
       "      <td>red-legged partridge</td>\n",
       "      <td>14</td>\n",
       "    </tr>\n",
       "    <tr>\n",
       "      <th>3</th>\n",
       "      <td>blue-cheeked parrot</td>\n",
       "      <td>12</td>\n",
       "    </tr>\n",
       "    <tr>\n",
       "      <th>4</th>\n",
       "      <td>northern pintail</td>\n",
       "      <td>15</td>\n",
       "    </tr>\n",
       "    <tr>\n",
       "      <th>...</th>\n",
       "      <td>...</td>\n",
       "      <td>...</td>\n",
       "    </tr>\n",
       "    <tr>\n",
       "      <th>76</th>\n",
       "      <td>barn owl</td>\n",
       "      <td>12</td>\n",
       "    </tr>\n",
       "    <tr>\n",
       "      <th>77</th>\n",
       "      <td>eurasian hoopoe</td>\n",
       "      <td>13</td>\n",
       "    </tr>\n",
       "    <tr>\n",
       "      <th>78</th>\n",
       "      <td>murre</td>\n",
       "      <td>13</td>\n",
       "    </tr>\n",
       "    <tr>\n",
       "      <th>79</th>\n",
       "      <td>new zealand rockwren</td>\n",
       "      <td>13</td>\n",
       "    </tr>\n",
       "    <tr>\n",
       "      <th>80</th>\n",
       "      <td>bushwren</td>\n",
       "      <td>13</td>\n",
       "    </tr>\n",
       "  </tbody>\n",
       "</table>\n",
       "<p>81 rows × 2 columns</p>\n",
       "</div>"
      ],
      "text/plain": [
       "                 species  neck_vertebrae\n",
       "0      cinereous vulture              13\n",
       "1             guineafowl              14\n",
       "2   red-legged partridge              14\n",
       "3    blue-cheeked parrot              12\n",
       "4       northern pintail              15\n",
       "..                   ...             ...\n",
       "76              barn owl              12\n",
       "77       eurasian hoopoe              13\n",
       "78                 murre              13\n",
       "79  new zealand rockwren              13\n",
       "80              bushwren              13\n",
       "\n",
       "[81 rows x 2 columns]"
      ]
     },
     "execution_count": 115,
     "metadata": {},
     "output_type": "execute_result"
    }
   ],
   "source": [
    "birds = pd.read_csv('bird-neck-bones.csv')\n",
    "birds #display the dataframe"
   ]
  },
  {
   "cell_type": "markdown",
   "metadata": {},
   "source": [
    "Birds seem to have many more vertebrae than mammals. Let's make a bar plot of the value counts to get a sense of the distribution.\n",
    "\n",
    "We will use the method `sort_index()` to sort the value counts by the number of neck vertebrae.\n",
    "\n",
    "Activity Goals:\n",
    "- Get the value counts for bird neck vertebrae.\n",
    "- Sort by the index.\n",
    "- Use pandas to make a bar plot."
   ]
  },
  {
   "cell_type": "code",
   "execution_count": 116,
   "metadata": {},
   "outputs": [
    {
     "data": {
      "text/plain": [
       "<Axes: xlabel='neck_vertebrae'>"
      ]
     },
     "execution_count": 116,
     "metadata": {},
     "output_type": "execute_result"
    },
    {
     "data": {
      "image/png": "[encoded data removed]",
      "text/plain": [
       "<Figure size 640x480 with 1 Axes>"
      ]
     },
     "metadata": {},
     "output_type": "display_data"
    }
   ],
   "source": [
    "bird_counts = birds['neck_vertebrae'].value_counts()\n",
    "bird_counts = bird_counts.sort_index()\n",
    "bird_counts.plot.bar()\n"
   ]
  },
  {
   "cell_type": "markdown",
   "metadata": {},
   "source": [
    "Birds have more diverse neck skeletons.\n",
    "\n",
    "The most common number of neck vertebrae is 13, but it looks like 23 is the maximum.\n",
    "\n",
    "Which bird has the maximum number of neck bones?\n",
    "\n",
    "Activity Goal:\n",
    "- Find the rows with the maximum number of neck vertebrae."
   ]
  },
  {
   "cell_type": "code",
   "execution_count": 117,
   "metadata": {},
   "outputs": [
    {
     "data": {
      "text/html": [
       "<div>\n",
       "<style scoped>\n",
       "    .dataframe tbody tr th:only-of-type {\n",
       "        vertical-align: middle;\n",
       "    }\n",
       "\n",
       "    .dataframe tbody tr th {\n",
       "        vertical-align: top;\n",
       "    }\n",
       "\n",
       "    .dataframe thead th {\n",
       "        text-align: right;\n",
       "    }\n",
       "</style>\n",
       "<table border=\"1\" class=\"dataframe\">\n",
       "  <thead>\n",
       "    <tr style=\"text-align: right;\">\n",
       "      <th></th>\n",
       "      <th>species</th>\n",
       "      <th>neck_vertebrae</th>\n",
       "    </tr>\n",
       "  </thead>\n",
       "  <tbody>\n",
       "    <tr>\n",
       "      <th>28</th>\n",
       "      <td>mute swan</td>\n",
       "      <td>23</td>\n",
       "    </tr>\n",
       "  </tbody>\n",
       "</table>\n",
       "</div>"
      ],
      "text/plain": [
       "      species  neck_vertebrae\n",
       "28  mute swan              23"
      ]
     },
     "execution_count": 117,
     "metadata": {},
     "output_type": "execute_result"
    }
   ],
   "source": [
    "birds.query('neck_vertebrae == neck_vertebrae.max()')"
   ]
  },
  {
   "cell_type": "markdown",
   "metadata": {},
   "source": [
    "The beautiful Mute Swan takes the prize!"
   ]
  },
  {
   "cell_type": "markdown",
   "metadata": {},
   "source": [
    "## Project extensions\n",
    "\n",
    "Below are a few ideas for extensions. \n",
    "\n",
    "1. Which bird has the fewest neck vertebra?\n",
    "\n",
    "\t- Find the row with the minimum number of neck vertebrae.\n",
    "\n",
    "2. Do humans have more bones in the arms or legs?\n",
    "\n",
    "\t- Filter the rows where the region is `arm`.\n",
    "\t- Repeat with `leg`.\n",
    "\n",
    "3. How many ribs to humans have?\n",
    "\n",
    "\t- Filter the rows where the name contains the word `rib`.\n",
    "\n",
    "\t\t- Hint: `name.str.contains(\"rib\")`.\n",
    "\n",
    "\t- To count the number of rows, use the dataframe function `df.shape`.\n",
    "\t\n",
    "\t- This will return the number of rows and columns in the dataframe."
   ]
  },
  {
   "cell_type": "code",
   "execution_count": 118,
   "metadata": {},
   "outputs": [
    {
     "data": {
      "text/html": [
       "<div>\n",
       "<style scoped>\n",
       "    .dataframe tbody tr th:only-of-type {\n",
       "        vertical-align: middle;\n",
       "    }\n",
       "\n",
       "    .dataframe tbody tr th {\n",
       "        vertical-align: top;\n",
       "    }\n",
       "\n",
       "    .dataframe thead th {\n",
       "        text-align: right;\n",
       "    }\n",
       "</style>\n",
       "<table border=\"1\" class=\"dataframe\">\n",
       "  <thead>\n",
       "    <tr style=\"text-align: right;\">\n",
       "      <th></th>\n",
       "      <th>species</th>\n",
       "      <th>neck_vertebrae</th>\n",
       "    </tr>\n",
       "  </thead>\n",
       "  <tbody>\n",
       "    <tr>\n",
       "      <th>0</th>\n",
       "      <td>cinereous vulture</td>\n",
       "      <td>13</td>\n",
       "    </tr>\n",
       "    <tr>\n",
       "      <th>1</th>\n",
       "      <td>guineafowl</td>\n",
       "      <td>14</td>\n",
       "    </tr>\n",
       "    <tr>\n",
       "      <th>2</th>\n",
       "      <td>red-legged partridge</td>\n",
       "      <td>14</td>\n",
       "    </tr>\n",
       "    <tr>\n",
       "      <th>3</th>\n",
       "      <td>blue-cheeked parrot</td>\n",
       "      <td>12</td>\n",
       "    </tr>\n",
       "    <tr>\n",
       "      <th>4</th>\n",
       "      <td>northern pintail</td>\n",
       "      <td>15</td>\n",
       "    </tr>\n",
       "  </tbody>\n",
       "</table>\n",
       "</div>"
      ],
      "text/plain": [
       "                species  neck_vertebrae\n",
       "0     cinereous vulture              13\n",
       "1            guineafowl              14\n",
       "2  red-legged partridge              14\n",
       "3   blue-cheeked parrot              12\n",
       "4      northern pintail              15"
      ]
     },
     "execution_count": 118,
     "metadata": {},
     "output_type": "execute_result"
    }
   ],
   "source": [
    "# YOUR CODE HERE (add new cells as needed)\n",
    "birds = pd.read_csv('bird-neck-bones.csv')\n",
    "birds.head()"
   ]
  },
  {
   "cell_type": "code",
   "execution_count": 119,
   "metadata": {},
   "outputs": [
    {
     "data": {
      "text/html": [
       "<div>\n",
       "<style scoped>\n",
       "    .dataframe tbody tr th:only-of-type {\n",
       "        vertical-align: middle;\n",
       "    }\n",
       "\n",
       "    .dataframe tbody tr th {\n",
       "        vertical-align: top;\n",
       "    }\n",
       "\n",
       "    .dataframe thead th {\n",
       "        text-align: right;\n",
       "    }\n",
       "</style>\n",
       "<table border=\"1\" class=\"dataframe\">\n",
       "  <thead>\n",
       "    <tr style=\"text-align: right;\">\n",
       "      <th></th>\n",
       "      <th>species</th>\n",
       "      <th>neck_vertebrae</th>\n",
       "    </tr>\n",
       "  </thead>\n",
       "  <tbody>\n",
       "    <tr>\n",
       "      <th>11</th>\n",
       "      <td>blue-and-yellow macaw</td>\n",
       "      <td>10</td>\n",
       "    </tr>\n",
       "  </tbody>\n",
       "</table>\n",
       "</div>"
      ],
      "text/plain": [
       "                  species  neck_vertebrae\n",
       "11  blue-and-yellow macaw              10"
      ]
     },
     "execution_count": 119,
     "metadata": {},
     "output_type": "execute_result"
    }
   ],
   "source": [
    "birds.query('neck_vertebrae == neck_vertebrae.min()')"
   ]
  },
  {
   "cell_type": "code",
   "execution_count": 120,
   "metadata": {},
   "outputs": [
    {
     "data": {
      "text/html": [
       "<div>\n",
       "<style scoped>\n",
       "    .dataframe tbody tr th:only-of-type {\n",
       "        vertical-align: middle;\n",
       "    }\n",
       "\n",
       "    .dataframe tbody tr th {\n",
       "        vertical-align: top;\n",
       "    }\n",
       "\n",
       "    .dataframe thead th {\n",
       "        text-align: right;\n",
       "    }\n",
       "</style>\n",
       "<table border=\"1\" class=\"dataframe\">\n",
       "  <thead>\n",
       "    <tr style=\"text-align: right;\">\n",
       "      <th></th>\n",
       "      <th>name</th>\n",
       "      <th>region</th>\n",
       "      <th>subregion</th>\n",
       "      <th>side</th>\n",
       "      <th>fused_from</th>\n",
       "    </tr>\n",
       "  </thead>\n",
       "  <tbody>\n",
       "    <tr>\n",
       "      <th>0</th>\n",
       "      <td>frontal</td>\n",
       "      <td>head</td>\n",
       "      <td>cranium</td>\n",
       "      <td>center</td>\n",
       "      <td>2</td>\n",
       "    </tr>\n",
       "    <tr>\n",
       "      <th>1</th>\n",
       "      <td>left parietal</td>\n",
       "      <td>head</td>\n",
       "      <td>cranium</td>\n",
       "      <td>left</td>\n",
       "      <td>1</td>\n",
       "    </tr>\n",
       "    <tr>\n",
       "      <th>2</th>\n",
       "      <td>right parietal</td>\n",
       "      <td>head</td>\n",
       "      <td>cranium</td>\n",
       "      <td>right</td>\n",
       "      <td>1</td>\n",
       "    </tr>\n",
       "    <tr>\n",
       "      <th>3</th>\n",
       "      <td>left temporal</td>\n",
       "      <td>head</td>\n",
       "      <td>cranium</td>\n",
       "      <td>left</td>\n",
       "      <td>1</td>\n",
       "    </tr>\n",
       "    <tr>\n",
       "      <th>4</th>\n",
       "      <td>right temporal</td>\n",
       "      <td>head</td>\n",
       "      <td>cranium</td>\n",
       "      <td>right</td>\n",
       "      <td>1</td>\n",
       "    </tr>\n",
       "  </tbody>\n",
       "</table>\n",
       "</div>"
      ],
      "text/plain": [
       "             name region subregion    side  fused_from\n",
       "0         frontal   head   cranium  center           2\n",
       "1   left parietal   head   cranium    left           1\n",
       "2  right parietal   head   cranium   right           1\n",
       "3   left temporal   head   cranium    left           1\n",
       "4  right temporal   head   cranium   right           1"
      ]
     },
     "execution_count": 120,
     "metadata": {},
     "output_type": "execute_result"
    }
   ],
   "source": [
    "humanDF = pd.read_csv('adult-human-skeleton.csv')\n",
    "humanDF.head()"
   ]
  },
  {
   "cell_type": "code",
   "execution_count": 121,
   "metadata": {},
   "outputs": [
    {
     "name": "stdout",
     "output_type": "stream",
     "text": [
      "             name region  subregion   side  fused_from\n",
      "86   left humerus    arm  upper-arm   left           3\n",
      "87  right humerus    arm  upper-arm  right           3\n",
      "88    left radius    arm  lower-arm   left           2\n",
      "89   right radius    arm  lower-arm  right           2\n",
      "90      left ulna    arm  lower-arm   left           2\n",
      "91     right ulna    arm  lower-arm  right           2\n",
      "6\n"
     ]
    }
   ],
   "source": [
    "humanArm = humanDF.query(\"region == 'arm'\")\n",
    "humanArmCount = len(humanArm)\n",
    "print(humanArm)\n",
    "print(humanArmCount)\n"
   ]
  },
  {
   "cell_type": "code",
   "execution_count": 122,
   "metadata": {},
   "outputs": [
    {
     "name": "stdout",
     "output_type": "stream",
     "text": [
      "              name region  subregion   side  fused_from\n",
      "146     left femur    leg  upper-leg   left           3\n",
      "147    right femur    leg  upper-leg  right           3\n",
      "148   left patella    leg       knee   left           1\n",
      "149  right patella    leg       knee  right           1\n",
      "150     left tibia    leg  lower-leg   left           2\n",
      "151    right tibia    leg  lower-leg  right           2\n",
      "152    left fibula    leg  lower-leg   left           2\n",
      "153   right fibula    leg  lower-leg  right           2\n",
      "8\n"
     ]
    }
   ],
   "source": [
    "humanleg = humanDF.query(\"region == 'leg'\")\n",
    "humanlegCount = len(humanleg)\n",
    "print(humanleg)\n",
    "print(humanlegCount)"
   ]
  },
  {
   "cell_type": "code",
   "execution_count": 123,
   "metadata": {},
   "outputs": [
    {
     "name": "stdout",
     "output_type": "stream",
     "text": [
      "Human have less bones in arm than legs!\n",
      "Arm Count: 6\n",
      "Leg Count: 8\n"
     ]
    }
   ],
   "source": [
    "if humanArmCount > humanlegCount:\n",
    "    print(\"Human have more bones in arm than legs!\")\n",
    "    print(\"Arm Count: {armCount}\\nLeg Count: {legCount}\".format(armCount=humanArmCount, legCount=humanlegCount))\n",
    "elif humanArmCount < humanlegCount:\n",
    "    print(\"Human have less bones in arm than legs!\")\n",
    "    print(\"Arm Count: {armCount}\\nLeg Count: {legCount}\".format(armCount=humanArmCount, legCount=humanlegCount))"
   ]
  },
  {
   "cell_type": "code",
   "execution_count": 124,
   "metadata": {},
   "outputs": [
    {
     "name": "stdout",
     "output_type": "stream",
     "text": [
      "Number of rows in the human skeleton database where rib is contained: 24\n"
     ]
    }
   ],
   "source": [
    "number_of_rows_cols = len(humanDF[humanDF['name'].str.contains(\"rib\")])\n",
    "print(\"Number of rows in the human skeleton database where rib is contained: {rowcols}\".format(rowcols = number_of_rows_cols))"
   ]
  },
  {
   "cell_type": "markdown",
   "metadata": {},
   "source": [
    "# 📌 Project Tasks: Skeletal Variation Analysis\n",
    "\n",
    "This project compares cervical (neck) vertebrae counts across humans, mammals, and birds. Below is a set of tasks designed to deepen the analysis and prepare the project for scientific or portfolio use.\n",
    "\n",
    "---\n",
    "\n",
    "## 🧠 Basic Tasks\n",
    "\n",
    "### ✅ Task 1: Summarize Dataset Sizes\n",
    "- Print row and column counts for each dataset.\n",
    "- Count how many unique species or categories exist in each.\n",
    "\n",
    "### ✅ Task 2: Count Unique Vertebrae Values\n",
    "- List all unique neck vertebrae counts in birds and mammals.\n",
    "\n",
    "### ✅ Task 3: Plot Distributions\n",
    "- Create histograms of neck bone counts for:\n",
    "  - Birds\n",
    "  - Mammals\n",
    "  - Optional: Side-by-side comparison\n",
    "\n",
    "---\n",
    "\n",
    "## 📊 Intermediate Tasks\n",
    "\n",
    "### ✅ Task 4: Compute Descriptive Statistics\n",
    "- Use `.describe()` to get mean, std, min, max, etc. for birds and mammals.\n",
    "\n",
    "### ✅ Task 5: Add Coefficient of Variation\n",
    "- Calculate CV = (standard deviation) / (mean) for each group.\n",
    "\n",
    "### ✅ Task 6: Compare Flying vs. Flightless Birds\n",
    "- Add a `\"flight\"` column manually or based on species name.\n",
    "- Compare neck bone counts between flying and flightless birds.\n",
    "\n",
    "---\n",
    "\n",
    "## 🧪 Advanced Tasks\n",
    "\n",
    "### ✅ Task 7: Statistical Significance Test\n",
    "- Run a **t-test** or **Mann–Whitney U test** to check if bird and mammal neck counts differ significantly.\n",
    "\n",
    "### ✅ Task 8: Outlier Detection\n",
    "- Identify species with unusually high or low neck bone counts.\n",
    "- Visualize and label these species on boxplots or scatter plots.\n",
    "\n",
    "### ✅ Task 9: Combine All Datasets\n",
    "- Merge human, bird, and mammal datasets into a single DataFrame.\n",
    "- Add a `group` column (e.g., 'human', 'mammal', 'bird').\n",
    "- Plot group-wise boxplots or violin plots.\n",
    "\n",
    "---\n",
    "\n",
    "## 🧾 Reporting and Reflection\n",
    "\n",
    "### ✅ Task 10: Write an Executive Summary\n",
    "- Summarize your findings in a final Markdown cell or PDF.\n",
    "- Include:\n",
    "  - Key observations\n",
    "  - Biological significance\n",
    "  - Hypotheses or interpretations\n",
    "  - Suggestions for future work\n",
    "\n",
    "---\n",
    "\n",
    "_Once you complete these tasks, you will have a thorough comparative analysis project suitable for sharing, presenting, or publishing._\n",
    "\n"
   ]
  },
  {
   "cell_type": "markdown",
   "metadata": {},
   "source": [
    "## Understanding the Dataset"
   ]
  },
  {
   "cell_type": "code",
   "execution_count": 125,
   "metadata": {},
   "outputs": [],
   "source": [
    "#importing our datasets for furter completion of the tasks\n",
    "#datasets are imported again for clean work\n",
    "dfHuman = pd.read_csv('adult-human-skeleton.csv')\n",
    "dfBird = pd.read_csv('bird-neck-bones.csv')\n",
    "dfMammal = pd.read_csv('mammal-neck-bones.csv')"
   ]
  },
  {
   "cell_type": "code",
   "execution_count": 126,
   "metadata": {},
   "outputs": [
    {
     "data": {
      "text/plain": [
       "['neck_vertebrae', 'species']"
      ]
     },
     "execution_count": 126,
     "metadata": {},
     "output_type": "execute_result"
    }
   ],
   "source": [
    "sorted(dfHuman.columns)\n",
    "sorted(dfBird.columns)\n",
    "sorted(dfMammal.columns)"
   ]
  },
  {
   "cell_type": "code",
   "execution_count": 127,
   "metadata": {},
   "outputs": [
    {
     "name": "stdout",
     "output_type": "stream",
     "text": [
      "Dataset of Human Skeleton \n",
      "                             name region subregion    side  fused_from\n",
      "0                         frontal   head   cranium  center           2\n",
      "1                   left parietal   head   cranium    left           1\n",
      "2                  right parietal   head   cranium   right           1\n",
      "3                   left temporal   head   cranium    left           1\n",
      "4                  right temporal   head   cranium   right           1\n",
      "..                            ...    ...       ...     ...         ...\n",
      "201  right distal pedal phalanx 1   foot      toes   right           1\n",
      "202  right distal pedal phalanx 2   foot      toes   right           1\n",
      "203  right distal pedal phalanx 3   foot      toes   right           1\n",
      "204  right distal pedal phalanx 4   foot      toes   right           1\n",
      "205  right distal pedal phalanx 5   foot      toes   right           1\n",
      "\n",
      "[206 rows x 5 columns]\n",
      "Dataset of Bird Neck bones \n",
      "                 species  neck_vertebrae\n",
      "0      cinereous vulture              13\n",
      "1             guineafowl              14\n",
      "2   red-legged partridge              14\n",
      "3    blue-cheeked parrot              12\n",
      "4       northern pintail              15\n",
      "..                   ...             ...\n",
      "76              barn owl              12\n",
      "77       eurasian hoopoe              13\n",
      "78                 murre              13\n",
      "79  new zealand rockwren              13\n",
      "80              bushwren              13\n",
      "\n",
      "[81 rows x 2 columns]\n",
      "Dataset of Mammal Neck bones \n",
      "                 species  neck_vertebrae\n",
      "0                cheetah               7\n",
      "1                 impala               7\n",
      "2            giant panda               7\n",
      "3             hartebeest               7\n",
      "4                  moose               7\n",
      "..                   ...             ...\n",
      "297               alpaca               7\n",
      "298        common wombat               7\n",
      "299              red fox               7\n",
      "300           fennec fox               7\n",
      "301  california sea lion               7\n",
      "\n",
      "[302 rows x 2 columns]\n"
     ]
    }
   ],
   "source": [
    "print('Dataset of Human Skeleton ')\n",
    "print(dfHuman)\n",
    "print('Dataset of Bird Neck bones ')\n",
    "print(dfBird)\n",
    "print('Dataset of Mammal Neck bones ')\n",
    "print(dfMammal)"
   ]
  },
  {
   "cell_type": "code",
   "execution_count": 128,
   "metadata": {},
   "outputs": [
    {
     "data": {
      "text/html": [
       "<div>\n",
       "<style scoped>\n",
       "    .dataframe tbody tr th:only-of-type {\n",
       "        vertical-align: middle;\n",
       "    }\n",
       "\n",
       "    .dataframe tbody tr th {\n",
       "        vertical-align: top;\n",
       "    }\n",
       "\n",
       "    .dataframe thead th {\n",
       "        text-align: right;\n",
       "    }\n",
       "</style>\n",
       "<table border=\"1\" class=\"dataframe\">\n",
       "  <thead>\n",
       "    <tr style=\"text-align: right;\">\n",
       "      <th></th>\n",
       "      <th>name</th>\n",
       "      <th>region</th>\n",
       "      <th>subregion</th>\n",
       "      <th>side</th>\n",
       "      <th>fused_from</th>\n",
       "    </tr>\n",
       "  </thead>\n",
       "  <tbody>\n",
       "    <tr>\n",
       "      <th>0</th>\n",
       "      <td>frontal</td>\n",
       "      <td>head</td>\n",
       "      <td>cranium</td>\n",
       "      <td>center</td>\n",
       "      <td>2</td>\n",
       "    </tr>\n",
       "    <tr>\n",
       "      <th>1</th>\n",
       "      <td>left parietal</td>\n",
       "      <td>head</td>\n",
       "      <td>cranium</td>\n",
       "      <td>left</td>\n",
       "      <td>1</td>\n",
       "    </tr>\n",
       "    <tr>\n",
       "      <th>2</th>\n",
       "      <td>right parietal</td>\n",
       "      <td>head</td>\n",
       "      <td>cranium</td>\n",
       "      <td>right</td>\n",
       "      <td>1</td>\n",
       "    </tr>\n",
       "    <tr>\n",
       "      <th>3</th>\n",
       "      <td>left temporal</td>\n",
       "      <td>head</td>\n",
       "      <td>cranium</td>\n",
       "      <td>left</td>\n",
       "      <td>1</td>\n",
       "    </tr>\n",
       "    <tr>\n",
       "      <th>4</th>\n",
       "      <td>right temporal</td>\n",
       "      <td>head</td>\n",
       "      <td>cranium</td>\n",
       "      <td>right</td>\n",
       "      <td>1</td>\n",
       "    </tr>\n",
       "  </tbody>\n",
       "</table>\n",
       "</div>"
      ],
      "text/plain": [
       "             name region subregion    side  fused_from\n",
       "0         frontal   head   cranium  center           2\n",
       "1   left parietal   head   cranium    left           1\n",
       "2  right parietal   head   cranium   right           1\n",
       "3   left temporal   head   cranium    left           1\n",
       "4  right temporal   head   cranium   right           1"
      ]
     },
     "execution_count": 128,
     "metadata": {},
     "output_type": "execute_result"
    }
   ],
   "source": [
    "dfHuman.head()\n"
   ]
  },
  {
   "cell_type": "code",
   "execution_count": 129,
   "metadata": {},
   "outputs": [
    {
     "data": {
      "text/html": [
       "<div>\n",
       "<style scoped>\n",
       "    .dataframe tbody tr th:only-of-type {\n",
       "        vertical-align: middle;\n",
       "    }\n",
       "\n",
       "    .dataframe tbody tr th {\n",
       "        vertical-align: top;\n",
       "    }\n",
       "\n",
       "    .dataframe thead th {\n",
       "        text-align: right;\n",
       "    }\n",
       "</style>\n",
       "<table border=\"1\" class=\"dataframe\">\n",
       "  <thead>\n",
       "    <tr style=\"text-align: right;\">\n",
       "      <th></th>\n",
       "      <th>fused_from</th>\n",
       "    </tr>\n",
       "  </thead>\n",
       "  <tbody>\n",
       "    <tr>\n",
       "      <th>count</th>\n",
       "      <td>206.000000</td>\n",
       "    </tr>\n",
       "    <tr>\n",
       "      <th>mean</th>\n",
       "      <td>1.480583</td>\n",
       "    </tr>\n",
       "    <tr>\n",
       "      <th>std</th>\n",
       "      <td>0.919762</td>\n",
       "    </tr>\n",
       "    <tr>\n",
       "      <th>min</th>\n",
       "      <td>1.000000</td>\n",
       "    </tr>\n",
       "    <tr>\n",
       "      <th>25%</th>\n",
       "      <td>1.000000</td>\n",
       "    </tr>\n",
       "    <tr>\n",
       "      <th>50%</th>\n",
       "      <td>1.000000</td>\n",
       "    </tr>\n",
       "    <tr>\n",
       "      <th>75%</th>\n",
       "      <td>1.750000</td>\n",
       "    </tr>\n",
       "    <tr>\n",
       "      <th>max</th>\n",
       "      <td>6.000000</td>\n",
       "    </tr>\n",
       "  </tbody>\n",
       "</table>\n",
       "</div>"
      ],
      "text/plain": [
       "       fused_from\n",
       "count  206.000000\n",
       "mean     1.480583\n",
       "std      0.919762\n",
       "min      1.000000\n",
       "25%      1.000000\n",
       "50%      1.000000\n",
       "75%      1.750000\n",
       "max      6.000000"
      ]
     },
     "execution_count": 129,
     "metadata": {},
     "output_type": "execute_result"
    }
   ],
   "source": [
    "dfHuman.describe()"
   ]
  },
  {
   "cell_type": "code",
   "execution_count": 130,
   "metadata": {},
   "outputs": [
    {
     "data": {
      "text/plain": [
       "name\n",
       "frontal                         1\n",
       "left parietal                   1\n",
       "right parietal                  1\n",
       "left temporal                   1\n",
       "right temporal                  1\n",
       "                               ..\n",
       "right distal pedal phalanx 1    1\n",
       "right distal pedal phalanx 2    1\n",
       "right distal pedal phalanx 3    1\n",
       "right distal pedal phalanx 4    1\n",
       "right distal pedal phalanx 5    1\n",
       "Name: count, Length: 206, dtype: int64"
      ]
     },
     "execution_count": 130,
     "metadata": {},
     "output_type": "execute_result"
    }
   ],
   "source": [
    "dfHuman['name'].value_counts()"
   ]
  },
  {
   "cell_type": "code",
   "execution_count": 131,
   "metadata": {},
   "outputs": [
    {
     "data": {
      "text/html": [
       "<div>\n",
       "<style scoped>\n",
       "    .dataframe tbody tr th:only-of-type {\n",
       "        vertical-align: middle;\n",
       "    }\n",
       "\n",
       "    .dataframe tbody tr th {\n",
       "        vertical-align: top;\n",
       "    }\n",
       "\n",
       "    .dataframe thead th {\n",
       "        text-align: right;\n",
       "    }\n",
       "</style>\n",
       "<table border=\"1\" class=\"dataframe\">\n",
       "  <thead>\n",
       "    <tr style=\"text-align: right;\">\n",
       "      <th></th>\n",
       "      <th>species</th>\n",
       "      <th>neck_vertebrae</th>\n",
       "    </tr>\n",
       "  </thead>\n",
       "  <tbody>\n",
       "    <tr>\n",
       "      <th>0</th>\n",
       "      <td>cinereous vulture</td>\n",
       "      <td>13</td>\n",
       "    </tr>\n",
       "    <tr>\n",
       "      <th>1</th>\n",
       "      <td>guineafowl</td>\n",
       "      <td>14</td>\n",
       "    </tr>\n",
       "    <tr>\n",
       "      <th>2</th>\n",
       "      <td>red-legged partridge</td>\n",
       "      <td>14</td>\n",
       "    </tr>\n",
       "    <tr>\n",
       "      <th>3</th>\n",
       "      <td>blue-cheeked parrot</td>\n",
       "      <td>12</td>\n",
       "    </tr>\n",
       "    <tr>\n",
       "      <th>4</th>\n",
       "      <td>northern pintail</td>\n",
       "      <td>15</td>\n",
       "    </tr>\n",
       "  </tbody>\n",
       "</table>\n",
       "</div>"
      ],
      "text/plain": [
       "                species  neck_vertebrae\n",
       "0     cinereous vulture              13\n",
       "1            guineafowl              14\n",
       "2  red-legged partridge              14\n",
       "3   blue-cheeked parrot              12\n",
       "4      northern pintail              15"
      ]
     },
     "execution_count": 131,
     "metadata": {},
     "output_type": "execute_result"
    }
   ],
   "source": [
    "dfBird.head()"
   ]
  },
  {
   "cell_type": "code",
   "execution_count": 132,
   "metadata": {},
   "outputs": [
    {
     "data": {
      "text/plain": [
       "species\n",
       "cinereous vulture       1\n",
       "guineafowl              1\n",
       "red-legged partridge    1\n",
       "blue-cheeked parrot     1\n",
       "northern pintail        1\n",
       "                       ..\n",
       "barn owl                1\n",
       "eurasian hoopoe         1\n",
       "murre                   1\n",
       "new zealand rockwren    1\n",
       "bushwren                1\n",
       "Name: count, Length: 81, dtype: int64"
      ]
     },
     "execution_count": 132,
     "metadata": {},
     "output_type": "execute_result"
    }
   ],
   "source": [
    "dfBird['species'].value_counts()"
   ]
  },
  {
   "cell_type": "code",
   "execution_count": 133,
   "metadata": {},
   "outputs": [
    {
     "data": {
      "text/html": [
       "<div>\n",
       "<style scoped>\n",
       "    .dataframe tbody tr th:only-of-type {\n",
       "        vertical-align: middle;\n",
       "    }\n",
       "\n",
       "    .dataframe tbody tr th {\n",
       "        vertical-align: top;\n",
       "    }\n",
       "\n",
       "    .dataframe thead th {\n",
       "        text-align: right;\n",
       "    }\n",
       "</style>\n",
       "<table border=\"1\" class=\"dataframe\">\n",
       "  <thead>\n",
       "    <tr style=\"text-align: right;\">\n",
       "      <th></th>\n",
       "      <th>neck_vertebrae</th>\n",
       "    </tr>\n",
       "  </thead>\n",
       "  <tbody>\n",
       "    <tr>\n",
       "      <th>count</th>\n",
       "      <td>81.000000</td>\n",
       "    </tr>\n",
       "    <tr>\n",
       "      <th>mean</th>\n",
       "      <td>14.037037</td>\n",
       "    </tr>\n",
       "    <tr>\n",
       "      <th>std</th>\n",
       "      <td>2.352894</td>\n",
       "    </tr>\n",
       "    <tr>\n",
       "      <th>min</th>\n",
       "      <td>10.000000</td>\n",
       "    </tr>\n",
       "    <tr>\n",
       "      <th>25%</th>\n",
       "      <td>12.000000</td>\n",
       "    </tr>\n",
       "    <tr>\n",
       "      <th>50%</th>\n",
       "      <td>13.000000</td>\n",
       "    </tr>\n",
       "    <tr>\n",
       "      <th>75%</th>\n",
       "      <td>15.000000</td>\n",
       "    </tr>\n",
       "    <tr>\n",
       "      <th>max</th>\n",
       "      <td>23.000000</td>\n",
       "    </tr>\n",
       "  </tbody>\n",
       "</table>\n",
       "</div>"
      ],
      "text/plain": [
       "       neck_vertebrae\n",
       "count       81.000000\n",
       "mean        14.037037\n",
       "std          2.352894\n",
       "min         10.000000\n",
       "25%         12.000000\n",
       "50%         13.000000\n",
       "75%         15.000000\n",
       "max         23.000000"
      ]
     },
     "execution_count": 133,
     "metadata": {},
     "output_type": "execute_result"
    }
   ],
   "source": [
    "dfBird.describe()"
   ]
  },
  {
   "cell_type": "code",
   "execution_count": 134,
   "metadata": {},
   "outputs": [
    {
     "data": {
      "text/html": [
       "<div>\n",
       "<style scoped>\n",
       "    .dataframe tbody tr th:only-of-type {\n",
       "        vertical-align: middle;\n",
       "    }\n",
       "\n",
       "    .dataframe tbody tr th {\n",
       "        vertical-align: top;\n",
       "    }\n",
       "\n",
       "    .dataframe thead th {\n",
       "        text-align: right;\n",
       "    }\n",
       "</style>\n",
       "<table border=\"1\" class=\"dataframe\">\n",
       "  <thead>\n",
       "    <tr style=\"text-align: right;\">\n",
       "      <th></th>\n",
       "      <th>species</th>\n",
       "      <th>neck_vertebrae</th>\n",
       "    </tr>\n",
       "  </thead>\n",
       "  <tbody>\n",
       "    <tr>\n",
       "      <th>0</th>\n",
       "      <td>cheetah</td>\n",
       "      <td>7</td>\n",
       "    </tr>\n",
       "    <tr>\n",
       "      <th>1</th>\n",
       "      <td>impala</td>\n",
       "      <td>7</td>\n",
       "    </tr>\n",
       "    <tr>\n",
       "      <th>2</th>\n",
       "      <td>giant panda</td>\n",
       "      <td>7</td>\n",
       "    </tr>\n",
       "    <tr>\n",
       "      <th>3</th>\n",
       "      <td>hartebeest</td>\n",
       "      <td>7</td>\n",
       "    </tr>\n",
       "    <tr>\n",
       "      <th>4</th>\n",
       "      <td>moose</td>\n",
       "      <td>7</td>\n",
       "    </tr>\n",
       "  </tbody>\n",
       "</table>\n",
       "</div>"
      ],
      "text/plain": [
       "       species  neck_vertebrae\n",
       "0      cheetah               7\n",
       "1       impala               7\n",
       "2  giant panda               7\n",
       "3   hartebeest               7\n",
       "4        moose               7"
      ]
     },
     "execution_count": 134,
     "metadata": {},
     "output_type": "execute_result"
    }
   ],
   "source": [
    "dfMammal.head()"
   ]
  },
  {
   "cell_type": "code",
   "execution_count": 135,
   "metadata": {},
   "outputs": [
    {
     "data": {
      "text/plain": [
       "species\n",
       "cheetah                1\n",
       "impala                 1\n",
       "giant panda            1\n",
       "hartebeest             1\n",
       "moose                  1\n",
       "                      ..\n",
       "alpaca                 1\n",
       "common wombat          1\n",
       "red fox                1\n",
       "fennec fox             1\n",
       "california sea lion    1\n",
       "Name: count, Length: 302, dtype: int64"
      ]
     },
     "execution_count": 135,
     "metadata": {},
     "output_type": "execute_result"
    }
   ],
   "source": [
    "dfMammal['species'].value_counts()"
   ]
  },
  {
   "cell_type": "code",
   "execution_count": 136,
   "metadata": {},
   "outputs": [
    {
     "data": {
      "text/html": [
       "<div>\n",
       "<style scoped>\n",
       "    .dataframe tbody tr th:only-of-type {\n",
       "        vertical-align: middle;\n",
       "    }\n",
       "\n",
       "    .dataframe tbody tr th {\n",
       "        vertical-align: top;\n",
       "    }\n",
       "\n",
       "    .dataframe thead th {\n",
       "        text-align: right;\n",
       "    }\n",
       "</style>\n",
       "<table border=\"1\" class=\"dataframe\">\n",
       "  <thead>\n",
       "    <tr style=\"text-align: right;\">\n",
       "      <th></th>\n",
       "      <th>neck_vertebrae</th>\n",
       "    </tr>\n",
       "  </thead>\n",
       "  <tbody>\n",
       "    <tr>\n",
       "      <th>count</th>\n",
       "      <td>302.000000</td>\n",
       "    </tr>\n",
       "    <tr>\n",
       "      <th>mean</th>\n",
       "      <td>7.006623</td>\n",
       "    </tr>\n",
       "    <tr>\n",
       "      <th>std</th>\n",
       "      <td>0.182150</td>\n",
       "    </tr>\n",
       "    <tr>\n",
       "      <th>min</th>\n",
       "      <td>6.000000</td>\n",
       "    </tr>\n",
       "    <tr>\n",
       "      <th>25%</th>\n",
       "      <td>7.000000</td>\n",
       "    </tr>\n",
       "    <tr>\n",
       "      <th>50%</th>\n",
       "      <td>7.000000</td>\n",
       "    </tr>\n",
       "    <tr>\n",
       "      <th>75%</th>\n",
       "      <td>7.000000</td>\n",
       "    </tr>\n",
       "    <tr>\n",
       "      <th>max</th>\n",
       "      <td>9.000000</td>\n",
       "    </tr>\n",
       "  </tbody>\n",
       "</table>\n",
       "</div>"
      ],
      "text/plain": [
       "       neck_vertebrae\n",
       "count      302.000000\n",
       "mean         7.006623\n",
       "std          0.182150\n",
       "min          6.000000\n",
       "25%          7.000000\n",
       "50%          7.000000\n",
       "75%          7.000000\n",
       "max          9.000000"
      ]
     },
     "execution_count": 136,
     "metadata": {},
     "output_type": "execute_result"
    }
   ],
   "source": [
    "dfMammal.describe()"
   ]
  },
  {
   "cell_type": "markdown",
   "metadata": {},
   "source": [
    "## Task 1"
   ]
  },
  {
   "cell_type": "code",
   "execution_count": 137,
   "metadata": {},
   "outputs": [
    {
     "name": "stdout",
     "output_type": "stream",
     "text": [
      "Human Dataset\n",
      "Rows: 206\n",
      "Cols: 5\n"
     ]
    }
   ],
   "source": [
    "#Getting Rows and Colums for each datasets\n",
    "humanrowcount,humancolscount = dfHuman.shape\n",
    "print(\"Human Dataset\\nRows: {row}\\nCols: {col}\".format(row=humanrowcount, col=humancolscount))\n"
   ]
  },
  {
   "cell_type": "code",
   "execution_count": 138,
   "metadata": {},
   "outputs": [],
   "source": [
    "humanRows = df.values\n",
    "humanCols = df.columns"
   ]
  },
  {
   "cell_type": "code",
   "execution_count": 139,
   "metadata": {},
   "outputs": [
    {
     "name": "stdout",
     "output_type": "stream",
     "text": [
      "[['frontal' 'head' 'cranium' 'center' 2]\n",
      " ['left parietal' 'head' 'cranium' 'left' 1]\n",
      " ['right parietal' 'head' 'cranium' 'right' 1]\n",
      " ...\n",
      " ['right distal pedal phalanx 3' 'foot' 'toes' 'right' 1]\n",
      " ['right distal pedal phalanx 4' 'foot' 'toes' 'right' 1]\n",
      " ['right distal pedal phalanx 5' 'foot' 'toes' 'right' 1]]\n",
      "Index(['name', 'region', 'subregion', 'side', 'fused_from'], dtype='object')\n"
     ]
    }
   ],
   "source": [
    "print(humanRows)\n",
    "print(humanCols)"
   ]
  },
  {
   "cell_type": "code",
   "execution_count": 140,
   "metadata": {},
   "outputs": [
    {
     "name": "stdout",
     "output_type": "stream",
     "text": [
      "Unique Bones in Human: 206\n",
      "Unique Bird species: 81\n",
      "Unique Mammal species: 302\n"
     ]
    }
   ],
   "source": [
    "#Printing the species for each datasets\n",
    "print(\"Unique Bones in Human:\", dfHuman['name'].nunique())\n",
    "print(\"Unique Bird species:\", dfBird['species'].nunique())\n",
    "print(\"Unique Mammal species:\", dfMammal['species'].nunique())\n"
   ]
  },
  {
   "cell_type": "markdown",
   "metadata": {},
   "source": [
    "## Task2"
   ]
  },
  {
   "cell_type": "code",
   "execution_count": 141,
   "metadata": {},
   "outputs": [
    {
     "name": "stdout",
     "output_type": "stream",
     "text": [
      "Mammal Neck Vertebrae:\n",
      "\n",
      "\n",
      "neck_vertebrae\n",
      "6      2\n",
      "7    298\n",
      "9      2\n",
      "Name: count, dtype: int64\n",
      "\n",
      "\n",
      "Bird Neck Vertebrae:\n",
      "\n",
      "neck_vertebrae\n",
      "10     1\n",
      "11     7\n",
      "12    13\n",
      "13    20\n",
      "14    14\n",
      "15     7\n",
      "16     5\n",
      "17     6\n",
      "18     5\n",
      "19     2\n",
      "23     1\n",
      "Name: count, dtype: int64\n"
     ]
    }
   ],
   "source": [
    "mammalNeckVertebrae = dfMammal['neck_vertebrae'].value_counts().sort_index()\n",
    "birdNeckVertebrae = dfBird['neck_vertebrae'].value_counts().sort_index()\n",
    "print(\"Mammal Neck Vertebrae:\\n\\n\")\n",
    "print(mammalNeckVertebrae)\n",
    "print(\"\\n\\nBird Neck Vertebrae:\\n\")\n",
    "print(birdNeckVertebrae)"
   ]
  },
  {
   "cell_type": "markdown",
   "metadata": {},
   "source": [
    "## Task 3"
   ]
  },
  {
   "cell_type": "code",
   "execution_count": 142,
   "metadata": {},
   "outputs": [
    {
     "data": {
      "image/png": "[encoded data removed]",
      "text/plain": [
       "<Figure size 640x480 with 1 Axes>"
      ]
     },
     "metadata": {},
     "output_type": "display_data"
    }
   ],
   "source": [
    "import matplotlib.pyplot as plt\n",
    "\n",
    "plt.hist(dfMammal['neck_vertebrae'],bins=range(5,11), edgecolor='red')\n",
    "plt.xlabel('Number of Neck Vertebrae')\n",
    "plt.ylabel(\"Number of Species\")\n",
    "plt.title('Mammal Neck Vertebrae Distribution')\n",
    "\n",
    "plt.show()\n"
   ]
  },
  {
   "cell_type": "code",
   "execution_count": 143,
   "metadata": {},
   "outputs": [
    {
     "data": {
      "image/png": "[encoded data removed]",
      "text/plain": [
       "<Figure size 640x480 with 1 Axes>"
      ]
     },
     "metadata": {},
     "output_type": "display_data"
    }
   ],
   "source": [
    "plt.hist(dfBird['neck_vertebrae'], bins=range(9,25), edgecolor=\"black\")\n",
    "plt.xlabel('Number of Neck Vertebrae')\n",
    "plt.ylabel(\"Number of Species\")\n",
    "plt.title('Bird Neck Vertebrae Distribution')\n",
    "\n",
    "plt.show()\n"
   ]
  },
  {
   "cell_type": "markdown",
   "metadata": {},
   "source": [
    "## Task 4"
   ]
  },
  {
   "cell_type": "code",
   "execution_count": 144,
   "metadata": {},
   "outputs": [
    {
     "data": {
      "text/html": [
       "<div>\n",
       "<style scoped>\n",
       "    .dataframe tbody tr th:only-of-type {\n",
       "        vertical-align: middle;\n",
       "    }\n",
       "\n",
       "    .dataframe tbody tr th {\n",
       "        vertical-align: top;\n",
       "    }\n",
       "\n",
       "    .dataframe thead th {\n",
       "        text-align: right;\n",
       "    }\n",
       "</style>\n",
       "<table border=\"1\" class=\"dataframe\">\n",
       "  <thead>\n",
       "    <tr style=\"text-align: right;\">\n",
       "      <th></th>\n",
       "      <th>fused_from</th>\n",
       "    </tr>\n",
       "  </thead>\n",
       "  <tbody>\n",
       "    <tr>\n",
       "      <th>count</th>\n",
       "      <td>206.000000</td>\n",
       "    </tr>\n",
       "    <tr>\n",
       "      <th>mean</th>\n",
       "      <td>1.480583</td>\n",
       "    </tr>\n",
       "    <tr>\n",
       "      <th>std</th>\n",
       "      <td>0.919762</td>\n",
       "    </tr>\n",
       "    <tr>\n",
       "      <th>min</th>\n",
       "      <td>1.000000</td>\n",
       "    </tr>\n",
       "    <tr>\n",
       "      <th>25%</th>\n",
       "      <td>1.000000</td>\n",
       "    </tr>\n",
       "    <tr>\n",
       "      <th>50%</th>\n",
       "      <td>1.000000</td>\n",
       "    </tr>\n",
       "    <tr>\n",
       "      <th>75%</th>\n",
       "      <td>1.750000</td>\n",
       "    </tr>\n",
       "    <tr>\n",
       "      <th>max</th>\n",
       "      <td>6.000000</td>\n",
       "    </tr>\n",
       "  </tbody>\n",
       "</table>\n",
       "</div>"
      ],
      "text/plain": [
       "       fused_from\n",
       "count  206.000000\n",
       "mean     1.480583\n",
       "std      0.919762\n",
       "min      1.000000\n",
       "25%      1.000000\n",
       "50%      1.000000\n",
       "75%      1.750000\n",
       "max      6.000000"
      ]
     },
     "execution_count": 144,
     "metadata": {},
     "output_type": "execute_result"
    }
   ],
   "source": [
    "dfHuman.describe()\n"
   ]
  },
  {
   "cell_type": "code",
   "execution_count": 145,
   "metadata": {},
   "outputs": [
    {
     "data": {
      "text/html": [
       "<div>\n",
       "<style scoped>\n",
       "    .dataframe tbody tr th:only-of-type {\n",
       "        vertical-align: middle;\n",
       "    }\n",
       "\n",
       "    .dataframe tbody tr th {\n",
       "        vertical-align: top;\n",
       "    }\n",
       "\n",
       "    .dataframe thead th {\n",
       "        text-align: right;\n",
       "    }\n",
       "</style>\n",
       "<table border=\"1\" class=\"dataframe\">\n",
       "  <thead>\n",
       "    <tr style=\"text-align: right;\">\n",
       "      <th></th>\n",
       "      <th>neck_vertebrae</th>\n",
       "    </tr>\n",
       "  </thead>\n",
       "  <tbody>\n",
       "    <tr>\n",
       "      <th>count</th>\n",
       "      <td>81.000000</td>\n",
       "    </tr>\n",
       "    <tr>\n",
       "      <th>mean</th>\n",
       "      <td>14.037037</td>\n",
       "    </tr>\n",
       "    <tr>\n",
       "      <th>std</th>\n",
       "      <td>2.352894</td>\n",
       "    </tr>\n",
       "    <tr>\n",
       "      <th>min</th>\n",
       "      <td>10.000000</td>\n",
       "    </tr>\n",
       "    <tr>\n",
       "      <th>25%</th>\n",
       "      <td>12.000000</td>\n",
       "    </tr>\n",
       "    <tr>\n",
       "      <th>50%</th>\n",
       "      <td>13.000000</td>\n",
       "    </tr>\n",
       "    <tr>\n",
       "      <th>75%</th>\n",
       "      <td>15.000000</td>\n",
       "    </tr>\n",
       "    <tr>\n",
       "      <th>max</th>\n",
       "      <td>23.000000</td>\n",
       "    </tr>\n",
       "  </tbody>\n",
       "</table>\n",
       "</div>"
      ],
      "text/plain": [
       "       neck_vertebrae\n",
       "count       81.000000\n",
       "mean        14.037037\n",
       "std          2.352894\n",
       "min         10.000000\n",
       "25%         12.000000\n",
       "50%         13.000000\n",
       "75%         15.000000\n",
       "max         23.000000"
      ]
     },
     "execution_count": 145,
     "metadata": {},
     "output_type": "execute_result"
    }
   ],
   "source": [
    "dfBird.describe()"
   ]
  },
  {
   "cell_type": "code",
   "execution_count": 60,
   "metadata": {},
   "outputs": [
    {
     "data": {
      "text/html": [
       "<div>\n",
       "<style scoped>\n",
       "    .dataframe tbody tr th:only-of-type {\n",
       "        vertical-align: middle;\n",
       "    }\n",
       "\n",
       "    .dataframe tbody tr th {\n",
       "        vertical-align: top;\n",
       "    }\n",
       "\n",
       "    .dataframe thead th {\n",
       "        text-align: right;\n",
       "    }\n",
       "</style>\n",
       "<table border=\"1\" class=\"dataframe\">\n",
       "  <thead>\n",
       "    <tr style=\"text-align: right;\">\n",
       "      <th></th>\n",
       "      <th>neck_vertebrae</th>\n",
       "    </tr>\n",
       "  </thead>\n",
       "  <tbody>\n",
       "    <tr>\n",
       "      <th>count</th>\n",
       "      <td>302.000000</td>\n",
       "    </tr>\n",
       "    <tr>\n",
       "      <th>mean</th>\n",
       "      <td>7.006623</td>\n",
       "    </tr>\n",
       "    <tr>\n",
       "      <th>std</th>\n",
       "      <td>0.182150</td>\n",
       "    </tr>\n",
       "    <tr>\n",
       "      <th>min</th>\n",
       "      <td>6.000000</td>\n",
       "    </tr>\n",
       "    <tr>\n",
       "      <th>25%</th>\n",
       "      <td>7.000000</td>\n",
       "    </tr>\n",
       "    <tr>\n",
       "      <th>50%</th>\n",
       "      <td>7.000000</td>\n",
       "    </tr>\n",
       "    <tr>\n",
       "      <th>75%</th>\n",
       "      <td>7.000000</td>\n",
       "    </tr>\n",
       "    <tr>\n",
       "      <th>max</th>\n",
       "      <td>9.000000</td>\n",
       "    </tr>\n",
       "  </tbody>\n",
       "</table>\n",
       "</div>"
      ],
      "text/plain": [
       "       neck_vertebrae\n",
       "count      302.000000\n",
       "mean         7.006623\n",
       "std          0.182150\n",
       "min          6.000000\n",
       "25%          7.000000\n",
       "50%          7.000000\n",
       "75%          7.000000\n",
       "max          9.000000"
      ]
     },
     "execution_count": 60,
     "metadata": {},
     "output_type": "execute_result"
    }
   ],
   "source": [
    "dfMammal.describe()"
   ]
  },
  {
   "cell_type": "markdown",
   "metadata": {},
   "source": [
    "## Task 5"
   ]
  },
  {
   "cell_type": "code",
   "execution_count": 152,
   "metadata": {},
   "outputs": [
    {
     "name": "stdout",
     "output_type": "stream",
     "text": [
      "Mean: 7.006622516556291\n",
      "Standard Deviation: 0.18214990510526907\n",
      "Coefficient of Variation (CV) for Mammals: 0.025996820104816284\n"
     ]
    }
   ],
   "source": [
    "mean = dfMammal['neck_vertebrae'].mean()\n",
    "std = dfMammal['neck_vertebrae'].std()\n",
    "cv_mammal = std / mean\n",
    "\n",
    "print(\"Mean:\", mean)\n",
    "print(\"Standard Deviation:\", std)\n",
    "print(\"Coefficient of Variation (CV) for Mammals: {mammal}\".format(mammal=cv_mammal))\n"
   ]
  },
  {
   "cell_type": "code",
   "execution_count": 153,
   "metadata": {},
   "outputs": [
    {
     "name": "stdout",
     "output_type": "stream",
     "text": [
      "Coefficient of Variation (CV) for Birds: 0.16762043105459337\n"
     ]
    }
   ],
   "source": [
    "mean_bird = dfBird['neck_vertebrae'].mean()\n",
    "std_bird = dfBird['neck_vertebrae'].std()\n",
    "cv_bird = std_bird / mean_bird\n",
    "\n",
    "print(\"Coefficient of Variation (CV) for Birds: {bird}\".format(bird=cv_bird))\n"
   ]
  },
  {
   "cell_type": "code",
   "execution_count": 156,
   "metadata": {},
   "outputs": [
    {
     "data": {
      "image/png": "[encoded data removed]",
      "text/plain": [
       "<Figure size 640x480 with 1 Axes>"
      ]
     },
     "metadata": {},
     "output_type": "display_data"
    }
   ],
   "source": [
    "plt.bar(['Mammals', 'Birds'], [cv_mammal, cv_bird], color=['gray', 'skyblue'])\n",
    "plt.ylabel('Coefficient of Variation (CV)')\n",
    "plt.title('Relative Variation in Neck Vertebrae')\n",
    "plt.grid(axis='y', linestyle='--', alpha=0.5)\n",
    "plt.show()"
   ]
  },
  {
   "cell_type": "markdown",
   "metadata": {},
   "source": [
    "## Task 6"
   ]
  },
  {
   "cell_type": "code",
   "execution_count": 158,
   "metadata": {},
   "outputs": [],
   "source": [
    "flightless_species = [\n",
    "    'Emu',\n",
    "    'Ostrich',\n",
    "    'Kiwi',\n",
    "    'Southern cassowary',\n",
    "    'Flightless cormorant',\n",
    "    'Rhea',\n",
    "    'Penguin',  \n",
    "    'Kakapo',\n",
    "    'Takahe'\n",
    "]\n"
   ]
  },
  {
   "cell_type": "code",
   "execution_count": 159,
   "metadata": {},
   "outputs": [],
   "source": [
    "def is_flightless(name):\n",
    "    for bird in flightless_species:\n",
    "        if bird.lower() in name.lower():\n",
    "            return False\n",
    "    return True\n"
   ]
  },
  {
   "cell_type": "code",
   "execution_count": 160,
   "metadata": {},
   "outputs": [],
   "source": [
    "dfBird['flight'] = dfBird['species'].apply(is_flightless)\n"
   ]
  },
  {
   "cell_type": "code",
   "execution_count": 161,
   "metadata": {},
   "outputs": [
    {
     "data": {
      "text/plain": [
       "flight\n",
       "True     71\n",
       "False    10\n",
       "Name: count, dtype: int64"
      ]
     },
     "execution_count": 161,
     "metadata": {},
     "output_type": "execute_result"
    }
   ],
   "source": [
    "dfBird['flight'].value_counts()"
   ]
  },
  {
   "cell_type": "code",
   "execution_count": 170,
   "metadata": {},
   "outputs": [
    {
     "name": "stdout",
     "output_type": "stream",
     "text": [
      "                     species  neck_vertebrae  flight\n",
      "0          cinereous vulture              13    True\n",
      "1                 guineafowl              14    True\n",
      "2       red-legged partridge              14    True\n",
      "3        blue-cheeked parrot              12    True\n",
      "4           northern pintail              15    True\n",
      "5              auckland teal              14    True\n",
      "6            american darter              18    True\n",
      "7            oriental darter              18    True\n",
      "8               magpie goose              17    True\n",
      "9               king penguin              12   False\n",
      "10                      kiwi              14   False\n",
      "11     blue-and-yellow macaw              10    True\n",
      "12                grey heron              16    True\n",
      "13          bohemian waxwing              12    True\n",
      "14            barnacle goose              17    True\n",
      "15        eurasian eagle-owl              11    True\n",
      "16          great horned owl              13    True\n",
      "17  northern ground-hornbill              13    True\n",
      "18   salmon-crested cockatoo              11    True\n",
      "19           green broadbill              11    True\n"
     ]
    }
   ],
   "source": [
    "# Adding Flight option for Birds is successfully applied.\n",
    "print(dfBird.head(20))"
   ]
  },
  {
   "cell_type": "code",
   "execution_count": 173,
   "metadata": {},
   "outputs": [
    {
     "data": {
      "image/png": "[encoded data removed]",
      "text/plain": [
       "<Figure size 640x480 with 1 Axes>"
      ]
     },
     "metadata": {},
     "output_type": "display_data"
    }
   ],
   "source": [
    "flying = dfBird[dfBird['flight'] == True]\n",
    "flightless = dfBird[dfBird['flight'] == False]\n",
    "plt.hist(flying['neck_vertebrae'], bins=range(9, 27), alpha=0.7, label='Flying', edgecolor='black')\n",
    "plt.hist(flightless['neck_vertebrae'], bins=range(9, 27), alpha=0.7, label='Flightless', edgecolor='black')\n",
    "\n",
    "# Labels\n",
    "plt.xlabel('Number of Neck Vertebrae')\n",
    "plt.ylabel('Number of Species')\n",
    "plt.title('Bird Neck Vertebrae: Flying vs. Flightless')\n",
    "plt.legend()\n",
    "plt.grid(axis='y', linestyle='--', alpha=0.5)\n",
    "plt.show()"
   ]
  },
  {
   "cell_type": "code",
   "execution_count": null,
   "metadata": {},
   "outputs": [],
   "source": []
  },
  {
   "cell_type": "markdown",
   "metadata": {},
   "source": [
    "## Task 7"
   ]
  },
  {
   "cell_type": "code",
   "execution_count": 175,
   "metadata": {},
   "outputs": [
    {
     "name": "stdout",
     "output_type": "stream",
     "text": [
      "T-Statistic: 51.53479250184235\n",
      "P-Value: 8.03738104033047e-174\n",
      "Significant difference found (reject H₀).\n"
     ]
    }
   ],
   "source": [
    "from scipy.stats import ttest_ind\n",
    "\n",
    "# Run t-test\n",
    "t_stat, p_value = ttest_ind(dfBird['neck_vertebrae'], dfMammal['neck_vertebrae'])\n",
    "\n",
    "# Show results\n",
    "print(\"T-Statistic:\", t_stat)\n",
    "print(\"P-Value:\", p_value)\n",
    "\n",
    "# Interpretation\n",
    "if p_value < 0.05:\n",
    "    print(\"Significant difference found (reject H₀).\")\n",
    "else:\n",
    "    print(\"No significant difference (fail to reject H₀).\")\n"
   ]
  },
  {
   "cell_type": "markdown",
   "metadata": {},
   "source": [
    "## Task 8"
   ]
  },
  {
   "cell_type": "code",
   "execution_count": 191,
   "metadata": {},
   "outputs": [
    {
     "name": "stdout",
     "output_type": "stream",
     "text": [
      "      species  neck_vertebrae\n",
      "28  mute swan              23\n"
     ]
    }
   ],
   "source": [
    "# IQR method\n",
    "q1 = dfBird['neck_vertebrae'].quantile(0.25)\n",
    "q3 = dfBird['neck_vertebrae'].quantile(0.75)\n",
    "iqr = q3 - q1\n",
    "\n",
    "lower = q1 - 1.5 * iqr\n",
    "upper = q3 + 1.5 * iqr\n",
    "\n",
    "# Find outliers\n",
    "outliers_bird = dfBird[(dfBird['neck_vertebrae'] < lower) | (dfBird['neck_vertebrae'] > upper)]\n",
    "print(outliers[['species', 'neck_vertebrae']])\n"
   ]
  },
  {
   "cell_type": "code",
   "execution_count": 189,
   "metadata": {},
   "outputs": [
    {
     "name": "stdout",
     "output_type": "stream",
     "text": [
      "      species  neck_vertebrae\n",
      "28  mute swan              23\n"
     ]
    }
   ],
   "source": [
    "# IQR method\n",
    "q1 = dfMammal['neck_vertebrae'].quantile(0.25)\n",
    "q3 = dfMammal['neck_vertebrae'].quantile(0.75)\n",
    "iqr = q3 - q1\n",
    "\n",
    "lower = q1 - 1.5 * iqr\n",
    "upper = q3 + 1.5 * iqr\n",
    "\n",
    "# Find outliers\n",
    "outliers_mammals = dfMammal[(dfMammal['neck_vertebrae'] < lower) | (dfMammal['neck_vertebrae'] > upper)]\n",
    "print(outliers[['species', 'neck_vertebrae']])\n"
   ]
  },
  {
   "cell_type": "code",
   "execution_count": 190,
   "metadata": {},
   "outputs": [
    {
     "name": "stderr",
     "output_type": "stream",
     "text": [
      "C:\\Users\\PersonalPC\\AppData\\Local\\Temp\\ipykernel_17424\\1651449335.py:17: FutureWarning: \n",
      "\n",
      "Passing `palette` without assigning `hue` is deprecated and will be removed in v0.14.0. Assign the `x` variable to `hue` and set `legend=False` for the same effect.\n",
      "\n",
      "  sns.boxplot(x='group', y='neck_vertebrae', data=combined_df, palette='Set2')\n"
     ]
    },
    {
     "data": {
      "image/png": "[encoded data removed]",
      "text/plain": [
       "<Figure size 800x600 with 1 Axes>"
      ]
     },
     "metadata": {},
     "output_type": "display_data"
    }
   ],
   "source": [
    "import seaborn as sns\n",
    "\n",
    "# Step 1: Prepare bird data\n",
    "dfBirds = dfBird[['species', 'neck_vertebrae']].copy()\n",
    "dfBirds['group'] = 'bird'\n",
    "\n",
    "# Step 2: Prepare mammal data\n",
    "dfMammals = dfMammal[['species', 'neck_vertebrae']].copy()\n",
    "dfMammals.rename(columns={'species': 'common_name'}, inplace=True)\n",
    "dfMammals['group'] = 'mammal'\n",
    "\n",
    "# Step 3: Combine both DataFrames\n",
    "combined_df = pd.concat([dfBirds, dfMammals], ignore_index=True)\n",
    "\n",
    "# Step 4: Plot comparison\n",
    "plt.figure(figsize=(8, 6))\n",
    "sns.boxplot(x='group', y='neck_vertebrae', data=combined_df, palette='Set2')\n",
    "plt.title('Neck Vertebrae Count: Birds vs Mammals')\n",
    "plt.xlabel('Group')\n",
    "plt.ylabel('Number of Neck Vertebrae')\n",
    "plt.grid(axis='y', linestyle='--', alpha=0.5)\n",
    "plt.show()\n"
   ]
  },
  {
   "cell_type": "code",
   "execution_count": null,
   "metadata": {},
   "outputs": [],
   "source": []
  },
  {
   "cell_type": "code",
   "execution_count": null,
   "metadata": {},
   "outputs": [],
   "source": []
  },
  {
   "cell_type": "code",
   "execution_count": null,
   "metadata": {},
   "outputs": [],
   "source": []
  }
 ],
 "metadata": {
  "kernelspec": {
   "display_name": "Python 3",
   "language": "python",
   "name": "python3"
  },
  "language_info": {
   "codemirror_mode": {
    "name": "ipython",
    "version": 3
   },
   "file_extension": ".py",
   "mimetype": "text/x-python",
   "name": "python",
   "nbconvert_exporter": "python",
   "pygments_lexer": "ipython3",
   "version": "3.13.0"
  }
 },
 "nbformat": 4,
 "nbformat_minor": 2
}
